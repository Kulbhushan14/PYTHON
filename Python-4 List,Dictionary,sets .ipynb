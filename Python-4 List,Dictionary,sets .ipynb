{
 "cells": [
  {
   "cell_type": "markdown",
   "id": "26f40ed4-d76e-44dd-b9ee-137732213d3f",
   "metadata": {},
   "source": [
    "## Python-4 List,Dictionary,sets "
   ]
  },
  {
   "cell_type": "markdown",
   "id": "864231ff-b64c-49b3-9fe2-af5b96594d6c",
   "metadata": {},
   "source": [
    "### List[]"
   ]
  },
  {
   "cell_type": "markdown",
   "id": "7023e100-c0bf-4907-9e4f-b5bb5627ecda",
   "metadata": {},
   "source": [
    "A list is a data Structure in python that is **mutable, or changeable, ordered sequence of elements**. Each element that are present inside of a list is called an item. Just as **string are defined as characters between quotes**, lists are **defined** by having values between **square beackets[]**"
   ]
  },
  {
   "cell_type": "code",
   "execution_count": 11,
   "id": "91bac736-a749-487f-a62f-7565c5a6c678",
   "metadata": {},
   "outputs": [
    {
     "name": "stdout",
     "output_type": "stream",
     "text": [
      "bhushan\n"
     ]
    }
   ],
   "source": [
    "str=\"bhushan\"\n",
    "print(str)"
   ]
  },
  {
   "cell_type": "code",
   "execution_count": 12,
   "id": "6e456f64-7a64-4396-a842-51567b650c59",
   "metadata": {},
   "outputs": [],
   "source": [
    "str=[0,1,2] # define the list"
   ]
  },
  {
   "cell_type": "code",
   "execution_count": 13,
   "id": "8837e95e-9ad7-4e20-a131-3e4f1074b630",
   "metadata": {},
   "outputs": [
    {
     "name": "stdout",
     "output_type": "stream",
     "text": [
      "[0, 1, 2]\n"
     ]
    }
   ],
   "source": [
    "print(str) # print the list"
   ]
  },
  {
   "cell_type": "code",
   "execution_count": 14,
   "id": "d78e4451-176c-423f-92e4-2cfc50276cf6",
   "metadata": {},
   "outputs": [
    {
     "name": "stdout",
     "output_type": "stream",
     "text": [
      "0\n"
     ]
    }
   ],
   "source": [
    "print(str[0]) # print the item using index "
   ]
  },
  {
   "cell_type": "markdown",
   "id": "82365d21-11a3-4561-913e-bfe966cf7ae5",
   "metadata": {},
   "source": [
    "In python **index is always starting from 0**"
   ]
  },
  {
   "cell_type": "code",
   "execution_count": 15,
   "id": "c278b013-96aa-4a3f-a9a2-1fe1f3788c26",
   "metadata": {},
   "outputs": [
    {
     "name": "stdout",
     "output_type": "stream",
     "text": [
      "[10, 20, 30, 'banna', 'Orange']\n",
      "banna\n"
     ]
    }
   ],
   "source": [
    "lst=[10,20,30,\"banna\",\"Orange\"]\n",
    "print(lst) #printing the list\n",
    "print(lst[3]) #to find the banna using index number "
   ]
  },
  {
   "cell_type": "code",
   "execution_count": 16,
   "id": "56bdb29c-c17f-4a98-b09e-bf7411c9ba75",
   "metadata": {},
   "outputs": [
    {
     "name": "stdout",
     "output_type": "stream",
     "text": [
      "[10, 20, 30, 'banna', 'Orange']\n",
      "[10, 20, 30, 'apple', 'Orange']\n"
     ]
    }
   ],
   "source": [
    "## Mutable \n",
    "print(lst)\n",
    "lst[3]=\"apple\" # to find the list is mutable or not by updated the list \n",
    "print(lst)"
   ]
  },
  {
   "cell_type": "code",
   "execution_count": 18,
   "id": "d79cc66a-d18d-4aef-b05c-3c2c7262bf0b",
   "metadata": {},
   "outputs": [
    {
     "name": "stdout",
     "output_type": "stream",
     "text": [
      "10\n",
      "20\n",
      "30\n",
      "apple\n",
      "Orange\n"
     ]
    }
   ],
   "source": [
    "for i in lst:\n",
    "    print(i)"
   ]
  },
  {
   "cell_type": "markdown",
   "id": "b3ddbf7a-eec2-46ce-9ee4-0b4b2baa3dae",
   "metadata": {},
   "source": [
    "## Length()\n",
    "to find the length of list "
   ]
  },
  {
   "cell_type": "code",
   "execution_count": 19,
   "id": "67c97965-1505-4a00-8605-56b850c74a94",
   "metadata": {},
   "outputs": [
    {
     "data": {
      "text/plain": [
       "5"
      ]
     },
     "execution_count": 19,
     "metadata": {},
     "output_type": "execute_result"
    }
   ],
   "source": [
    "len(lst)"
   ]
  },
  {
   "cell_type": "markdown",
   "id": "383ec8e7-c028-467d-bcc0-a6fd402ab380",
   "metadata": {},
   "source": [
    "## Maximum()\n",
    "To find the maximum value of list"
   ]
  },
  {
   "cell_type": "code",
   "execution_count": 21,
   "id": "22ce974c-084b-4dd9-9b15-bc9e260f8e19",
   "metadata": {},
   "outputs": [
    {
     "data": {
      "text/plain": [
       "5"
      ]
     },
     "execution_count": 21,
     "metadata": {},
     "output_type": "execute_result"
    }
   ],
   "source": [
    "lst=[1,2,3,4,5]\n",
    "max(lst)"
   ]
  },
  {
   "cell_type": "markdown",
   "id": "824b9c9a-acd6-4b57-9bc3-23f425e32b7a",
   "metadata": {},
   "source": [
    "## Minimum()\n",
    "To find the minimum value in list **but is only applicable for int**"
   ]
  },
  {
   "cell_type": "code",
   "execution_count": 22,
   "id": "49b2dc03-8404-44af-adf9-1e15132d8669",
   "metadata": {},
   "outputs": [
    {
     "data": {
      "text/plain": [
       "1"
      ]
     },
     "execution_count": 22,
     "metadata": {},
     "output_type": "execute_result"
    }
   ],
   "source": [
    "min(lst)"
   ]
  },
  {
   "cell_type": "markdown",
   "id": "d40c1571-27d2-40e8-b1aa-1626edcf3f00",
   "metadata": {},
   "source": [
    "# Append \n",
    "To add the element at **end** in the list."
   ]
  },
  {
   "cell_type": "code",
   "execution_count": 27,
   "id": "c281850f-1ff2-4620-a970-5d16aca9c58a",
   "metadata": {},
   "outputs": [
    {
     "name": "stdout",
     "output_type": "stream",
     "text": [
      "[1, 2, 3, 4, 5, 6, 6]\n"
     ]
    }
   ],
   "source": [
    "print(lst)\n",
    "lst.append(6)"
   ]
  },
  {
   "cell_type": "code",
   "execution_count": 25,
   "id": "5b242d08-c6a7-44f0-8202-b479d933c01f",
   "metadata": {},
   "outputs": [
    {
     "data": {
      "text/plain": [
       "[1, 2, 3, 4, 5, 6]"
      ]
     },
     "execution_count": 25,
     "metadata": {},
     "output_type": "execute_result"
    }
   ],
   "source": [
    "lst"
   ]
  },
  {
   "cell_type": "code",
   "execution_count": 34,
   "id": "8605c030-c3a3-4d89-a3ba-dbb48c403d52",
   "metadata": {},
   "outputs": [],
   "source": [
    "lst.remove(6)"
   ]
  },
  {
   "cell_type": "code",
   "execution_count": 35,
   "id": "8e61d7a7-4ec2-4681-93ab-772f4f9f7768",
   "metadata": {},
   "outputs": [
    {
     "data": {
      "text/plain": [
       "[1, 2, 3, 4]"
      ]
     },
     "execution_count": 35,
     "metadata": {},
     "output_type": "execute_result"
    }
   ],
   "source": [
    "lst"
   ]
  },
  {
   "cell_type": "markdown",
   "id": "8c5eb535-16c9-46e8-af5b-26be1cf03551",
   "metadata": {},
   "source": [
    "to collect the lsit elemnt by putting the range"
   ]
  },
  {
   "cell_type": "code",
   "execution_count": 36,
   "id": "a49ac35d-9e16-4577-addd-675a5b38585a",
   "metadata": {},
   "outputs": [
    {
     "data": {
      "text/plain": [
       "[2, 3]"
      ]
     },
     "execution_count": 36,
     "metadata": {},
     "output_type": "execute_result"
    }
   ],
   "source": [
    "lst[1:3]"
   ]
  },
  {
   "cell_type": "markdown",
   "id": "70f2ec12-162c-4a90-9e29-1ca0ef03f235",
   "metadata": {},
   "source": [
    "# Insert \n",
    "To add the element to spefic position by using index"
   ]
  },
  {
   "cell_type": "code",
   "execution_count": 38,
   "id": "e289696d-d81d-49a9-8b9f-1edbf91e6760",
   "metadata": {},
   "outputs": [
    {
     "data": {
      "text/plain": [
       "[1, 2, 3, 4]"
      ]
     },
     "execution_count": 38,
     "metadata": {},
     "output_type": "execute_result"
    }
   ],
   "source": [
    "lst"
   ]
  },
  {
   "cell_type": "code",
   "execution_count": 40,
   "id": "ae811c56-c07b-4b8f-8d2d-20439e3bd1a0",
   "metadata": {},
   "outputs": [],
   "source": [
    "lst.insert(5,5) # inserting the 5 value in positon 5 "
   ]
  },
  {
   "cell_type": "code",
   "execution_count": 41,
   "id": "7599b091-5f23-42ae-909a-084c7607d0cb",
   "metadata": {},
   "outputs": [
    {
     "data": {
      "text/plain": [
       "[1, 2, 3, 4, 5]"
      ]
     },
     "execution_count": 41,
     "metadata": {},
     "output_type": "execute_result"
    }
   ],
   "source": [
    "lst"
   ]
  },
  {
   "cell_type": "code",
   "execution_count": 42,
   "id": "1e0ffefb-8ff4-4cd2-b787-65f923d47172",
   "metadata": {},
   "outputs": [],
   "source": [
    "lst.insert(6,10) #inserting the 10 value in postion 6"
   ]
  },
  {
   "cell_type": "code",
   "execution_count": 43,
   "id": "7b3a3fea-c445-4b71-ae2f-5412c81e2504",
   "metadata": {},
   "outputs": [
    {
     "data": {
      "text/plain": [
       "[1, 2, 3, 4, 5, 10]"
      ]
     },
     "execution_count": 43,
     "metadata": {},
     "output_type": "execute_result"
    }
   ],
   "source": [
    "lst"
   ]
  },
  {
   "cell_type": "markdown",
   "id": "23bffe7c-0775-4122-9e40-5d007f2adc2e",
   "metadata": {},
   "source": [
    "# Extend Method\n"
   ]
  },
  {
   "cell_type": "code",
   "execution_count": 44,
   "id": "5100f6ff-f3c6-4649-9a1b-60271c982a83",
   "metadata": {},
   "outputs": [
    {
     "data": {
      "text/plain": [
       "[1, 2, 3, 4, 5, 10]"
      ]
     },
     "execution_count": 44,
     "metadata": {},
     "output_type": "execute_result"
    }
   ],
   "source": [
    "lst"
   ]
  },
  {
   "cell_type": "code",
   "execution_count": 45,
   "id": "e58f1d21-9e47-42b5-8332-53395ce094c5",
   "metadata": {},
   "outputs": [],
   "source": [
    "# nested list\n",
    "lst.append([8,9])"
   ]
  },
  {
   "cell_type": "code",
   "execution_count": 46,
   "id": "9abff599-ed99-4ba8-ba99-dec234e17a5e",
   "metadata": {},
   "outputs": [
    {
     "data": {
      "text/plain": [
       "[1, 2, 3, 4, 5, 10, [8, 9]]"
      ]
     },
     "execution_count": 46,
     "metadata": {},
     "output_type": "execute_result"
    }
   ],
   "source": [
    "lst"
   ]
  },
  {
   "cell_type": "code",
   "execution_count": 49,
   "id": "1dcd53be-0e8e-4a98-b8ad-fbf0ce271137",
   "metadata": {},
   "outputs": [],
   "source": [
    "# extend ()\n",
    "lst.extend([11,12])\n",
    "## to add the separatly at the end of list "
   ]
  },
  {
   "cell_type": "code",
   "execution_count": 50,
   "id": "ee60a93d-cd65-4c2b-8493-2df8858bb4be",
   "metadata": {},
   "outputs": [
    {
     "data": {
      "text/plain": [
       "[1, 2, 3, 4, 5, 10, [8, 9], 11, 12, 11, 12]"
      ]
     },
     "execution_count": 50,
     "metadata": {},
     "output_type": "execute_result"
    }
   ],
   "source": [
    "lst"
   ]
  },
  {
   "cell_type": "markdown",
   "id": "e8fee740-d31a-4f2f-83e0-fac0b9a78134",
   "metadata": {},
   "source": [
    "# POP\n",
    "Remove and return item at index (default last).\r\n"
   ]
  },
  {
   "cell_type": "code",
   "execution_count": 51,
   "id": "8e5d37bc-23a3-4541-be4e-8925cb6f2989",
   "metadata": {},
   "outputs": [
    {
     "data": {
      "text/plain": [
       "12"
      ]
     },
     "execution_count": 51,
     "metadata": {},
     "output_type": "execute_result"
    }
   ],
   "source": [
    "lst.pop()"
   ]
  },
  {
   "cell_type": "code",
   "execution_count": 52,
   "id": "15fdb6fe-471f-4c86-9fff-1cdb1ce37276",
   "metadata": {},
   "outputs": [
    {
     "data": {
      "text/plain": [
       "[1, 2, 3, 4, 5, 10, [8, 9], 11, 12, 11]"
      ]
     },
     "execution_count": 52,
     "metadata": {},
     "output_type": "execute_result"
    }
   ],
   "source": [
    "lst"
   ]
  },
  {
   "cell_type": "code",
   "execution_count": 53,
   "id": "336a9ac8-f3a2-4230-a182-8c6c0ac8de13",
   "metadata": {},
   "outputs": [
    {
     "data": {
      "text/plain": [
       "[8, 9]"
      ]
     },
     "execution_count": 53,
     "metadata": {},
     "output_type": "execute_result"
    }
   ],
   "source": [
    "lst.pop(6)"
   ]
  },
  {
   "cell_type": "code",
   "execution_count": 54,
   "id": "0f737c6f-c856-4dcc-92d0-b853cec27262",
   "metadata": {},
   "outputs": [
    {
     "data": {
      "text/plain": [
       "[1, 2, 3, 4, 5, 10, 11, 12, 11]"
      ]
     },
     "execution_count": 54,
     "metadata": {},
     "output_type": "execute_result"
    }
   ],
   "source": [
    "lst"
   ]
  },
  {
   "cell_type": "code",
   "execution_count": 56,
   "id": "457bbc76-2585-4619-8cb3-3865be2fb21e",
   "metadata": {},
   "outputs": [
    {
     "data": {
      "text/plain": [
       "11"
      ]
     },
     "execution_count": 56,
     "metadata": {},
     "output_type": "execute_result"
    }
   ],
   "source": [
    "lst.pop(6)"
   ]
  },
  {
   "cell_type": "code",
   "execution_count": null,
   "id": "4d7d972e-bb19-4469-b1cb-9248ea1c049a",
   "metadata": {},
   "outputs": [],
   "source": []
  }
 ],
 "metadata": {
  "kernelspec": {
   "display_name": "Python 3 (ipykernel)",
   "language": "python",
   "name": "python3"
  },
  "language_info": {
   "codemirror_mode": {
    "name": "ipython",
    "version": 3
   },
   "file_extension": ".py",
   "mimetype": "text/x-python",
   "name": "python",
   "nbconvert_exporter": "python",
   "pygments_lexer": "ipython3",
   "version": "3.11.5"
  }
 },
 "nbformat": 4,
 "nbformat_minor": 5
}
