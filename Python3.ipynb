{
 "cells": [
  {
   "cell_type": "markdown",
   "id": "90e59f8c-3366-4649-9a8b-93d4017e2769",
   "metadata": {},
   "source": [
    "## Python Operator\n"
   ]
  },
  {
   "cell_type": "markdown",
   "id": "0fb0c899-8c25-4813-96a5-e8ce4c24d8c3",
   "metadata": {},
   "source": [
    "1. Logical operator\n",
    "2. Equality\n",
    "3. Comparision\n",
    "4. Arithmetic "
   ]
  },
  {
   "cell_type": "markdown",
   "id": "f1c2d57a-4c9e-4d35-8da0-e9f364b59376",
   "metadata": {},
   "source": [
    "## 1. Logical Operator\n",
    "##### In python following keywords are used for boolean operations.\n",
    "                                     \n",
    "#### | keywords| | Meaning|\n",
    "         |-|-|\n",
    "#### |**not**| |unary negation|\n",
    "#### |**and**| |conditional AND|\n",
    "#### |**or**|  |conditional OR|\n",
    "\n",
    "EXAMPLE:"
   ]
  },
  {
   "cell_type": "code",
   "execution_count": 14,
   "id": "b70b148a-8a9d-43ef-a152-5d5016cbb5ed",
   "metadata": {},
   "outputs": [
    {
     "data": {
      "text/plain": [
       "False"
      ]
     },
     "execution_count": 14,
     "metadata": {},
     "output_type": "execute_result"
    }
   ],
   "source": [
    "True and False"
   ]
  },
  {
   "cell_type": "code",
   "execution_count": 15,
   "id": "d9ecd75b-f398-447f-9c41-4e88ed927462",
   "metadata": {},
   "outputs": [
    {
     "data": {
      "text/plain": [
       "True"
      ]
     },
     "execution_count": 15,
     "metadata": {},
     "output_type": "execute_result"
    }
   ],
   "source": [
    "True or False"
   ]
  },
  {
   "cell_type": "markdown",
   "id": "9792e34b-c45b-4e08-89ca-da9d52606081",
   "metadata": {},
   "source": [
    "### AND operator"
   ]
  },
  {
   "cell_type": "code",
   "execution_count": 17,
   "id": "2ac2b51a-b395-4a0d-bd9a-d64f8b7f3c17",
   "metadata": {},
   "outputs": [
    {
     "name": "stdin",
     "output_type": "stream",
     "text": [
      "Enter the age 19\n"
     ]
    },
    {
     "name": "stdout",
     "output_type": "stream",
     "text": [
      "Successful Execuation\n"
     ]
    }
   ],
   "source": [
    "\n",
    "age=int(input(\"Enter the age\"))\n",
    "if age>18 and age<=35:\n",
    "    print(\"Successful Execuation\") "
   ]
  },
  {
   "cell_type": "markdown",
   "id": "f4461c20-fa35-4f4f-97a0-5e415eb4e8f8",
   "metadata": {},
   "source": [
    "### OR Operator"
   ]
  },
  {
   "cell_type": "code",
   "execution_count": 20,
   "id": "f1e222bc-61c4-4679-bd2b-3f7d1f2a26f4",
   "metadata": {},
   "outputs": [
    {
     "name": "stdin",
     "output_type": "stream",
     "text": [
      "Enter the age 18\n"
     ]
    },
    {
     "name": "stdout",
     "output_type": "stream",
     "text": [
      "successful\n"
     ]
    }
   ],
   "source": [
    "age=int(input(\"Enter the age\"))\n",
    "if age<=18 or age>=35:\n",
    "    print(\"successful\")"
   ]
  },
  {
   "cell_type": "markdown",
   "id": "077fb362-9114-492a-9906-0a969ed077c5",
   "metadata": {},
   "source": [
    "## 2. Equality operator\n",
    "following operations are present in python for equality check operation-\n",
    "1.  is     ---> a is b return true if variable/identifiers a and b points to the same object.\n",
    "2.  is not ---> a is not b returns true if variable/identifiers a and b points to the different object.\n",
    "3.  (==)   ---> a==b is returns true if variable/identifiers a and b points has same value.\n",
    "4.  !=     ---> a!=b is returns true if variable/identifiers a and b points has different value.\n",
    "\n"
   ]
  },
  {
   "cell_type": "markdown",
   "id": "0becb016-f78e-4d8d-96a4-fad1d133a82c",
   "metadata": {},
   "source": [
    "### double equal to operator (==)\n",
    "a==b is returns true if variable/identifiers a and b points has same value."
   ]
  },
  {
   "cell_type": "code",
   "execution_count": 21,
   "id": "78b06a67-2f8a-4b54-9fee-022dccb109d0",
   "metadata": {},
   "outputs": [
    {
     "data": {
      "text/plain": [
       "True"
      ]
     },
     "execution_count": 21,
     "metadata": {},
     "output_type": "execute_result"
    }
   ],
   "source": [
    "a=\"k\"\n",
    "b=\"k\"\n",
    "\n",
    "a==b"
   ]
  },
  {
   "cell_type": "code",
   "execution_count": 22,
   "id": "26a5aed8-d348-431a-8e58-9375f83d7c30",
   "metadata": {},
   "outputs": [
    {
     "data": {
      "text/plain": [
       "False"
      ]
     },
     "execution_count": 22,
     "metadata": {},
     "output_type": "execute_result"
    }
   ],
   "source": [
    "a=\"k\"\n",
    "b=\"k1\"\n",
    "\n",
    "a==b"
   ]
  },
  {
   "cell_type": "code",
   "execution_count": 23,
   "id": "ba6fd5f7-c5a0-4c5d-b741-8f44a0b58133",
   "metadata": {},
   "outputs": [
    {
     "name": "stdin",
     "output_type": "stream",
     "text": [
      "Enter the age 18\n"
     ]
    },
    {
     "name": "stdout",
     "output_type": "stream",
     "text": [
      "you are in the teenager age\n"
     ]
    }
   ],
   "source": [
    "age=int(input(\"Enter the age\"))\n",
    "\n",
    "if age==18:\n",
    "    print(\"you are in the teenager age\")\n",
    "    "
   ]
  },
  {
   "cell_type": "markdown",
   "id": "e8f85f81-5a58-46f9-a457-9e064b03d8be",
   "metadata": {},
   "source": [
    "### is operaator \n",
    "a is b return true if variable/identifiers a and b points to the same object."
   ]
  },
  {
   "cell_type": "code",
   "execution_count": 24,
   "id": "843165b6-e5a8-4abc-b579-36923a5cff32",
   "metadata": {},
   "outputs": [
    {
     "name": "stdout",
     "output_type": "stream",
     "text": [
      "1992140522672\n",
      "1992140522672\n"
     ]
    }
   ],
   "source": [
    "a=\"kul\"\n",
    "b=\"kul\"\n",
    "print(id(a))\n",
    "print(id(b))"
   ]
  },
  {
   "cell_type": "code",
   "execution_count": 25,
   "id": "cda82298-8aff-4c7a-947b-89d0fe4424de",
   "metadata": {},
   "outputs": [
    {
     "data": {
      "text/plain": [
       "True"
      ]
     },
     "execution_count": 25,
     "metadata": {},
     "output_type": "execute_result"
    }
   ],
   "source": [
    "a is b"
   ]
  },
  {
   "cell_type": "markdown",
   "id": "7385796b-ff6c-438a-8b1a-f520205ed1ee",
   "metadata": {},
   "source": [
    "### is not \n",
    "a is not b returns true if variable/identifiers a and b points to the different object."
   ]
  },
  {
   "cell_type": "code",
   "execution_count": 26,
   "id": "1ca81c38-f5b1-4237-a001-f7f86ac2ce03",
   "metadata": {},
   "outputs": [
    {
     "data": {
      "text/plain": [
       "True"
      ]
     },
     "execution_count": 26,
     "metadata": {},
     "output_type": "execute_result"
    }
   ],
   "source": [
    "a=\"kulbhushan\"\n",
    "b=\"magdum\"\n",
    "\n",
    "a is not b"
   ]
  },
  {
   "cell_type": "code",
   "execution_count": 27,
   "id": "78d4f786-fc2a-4f81-abad-a03950a446d9",
   "metadata": {},
   "outputs": [
    {
     "data": {
      "text/plain": [
       "False"
      ]
     },
     "execution_count": 27,
     "metadata": {},
     "output_type": "execute_result"
    }
   ],
   "source": [
    "a=\"kulbhushan\"\n",
    "b=\"kulbhushan\"\n",
    "\n",
    "a is not b"
   ]
  },
  {
   "cell_type": "markdown",
   "id": "b9c78b8c-749b-4eaa-b85e-e2ec1a79dd22",
   "metadata": {},
   "source": [
    " ### !=     \n",
    "a!=b is returns true if variable/identifiers a and b points has different value."
   ]
  },
  {
   "cell_type": "code",
   "execution_count": 29,
   "id": "72796ce2-3c48-471c-8952-67bb75080457",
   "metadata": {},
   "outputs": [
    {
     "data": {
      "text/plain": [
       "True"
      ]
     },
     "execution_count": 29,
     "metadata": {},
     "output_type": "execute_result"
    }
   ],
   "source": [
    "\"krish\" != \"krish1\""
   ]
  },
  {
   "cell_type": "markdown",
   "id": "35f6617e-ee5a-4753-9102-f06e1f39fff1",
   "metadata": {},
   "source": [
    "## Comparisan Operator\n",
    "\n",
    "1. <   --- less than\n",
    "2. <=  --- less than equal to\n",
    "3. ( > )  --- greator than\n",
    "4. ( >= ) --- greator than equal to "
   ]
  },
  {
   "cell_type": "code",
   "execution_count": 32,
   "id": "d6e9f174-914e-4927-bc16-1881a5c3c2b2",
   "metadata": {},
   "outputs": [
    {
     "name": "stdin",
     "output_type": "stream",
     "text": [
      "Enter the marks 50\n"
     ]
    },
    {
     "name": "stdout",
     "output_type": "stream",
     "text": [
      "pass\n",
      "first class\n"
     ]
    }
   ],
   "source": [
    "marks= float(input(\"Enter the marks\"))\n",
    "\n",
    "if marks>35:\n",
    "    print(\"pass\")\n",
    "    if marks>=50 and marks<=70:\n",
    "        print(\"first class\")\n",
    "elif marks<35:\n",
    "    print(\"fail\")"
   ]
  },
  {
   "cell_type": "markdown",
   "id": "dca44138-293f-4d0b-b3d3-a74e60b7cf8a",
   "metadata": {},
   "source": [
    "## Arithmetic Opertor\n",
    "\n",
    "1. (+) ---- addition \n",
    "2. (-) --- subtraction\n",
    "3. (*) --- multiplication\n",
    "4. / --- true division\n",
    "5. // --- inter division\n",
    "6. % --- modulo operator"
   ]
  },
  {
   "cell_type": "code",
   "execution_count": 33,
   "id": "c19f7647-7c49-4151-827b-e625eaf11685",
   "metadata": {},
   "outputs": [
    {
     "data": {
      "text/plain": [
       "110"
      ]
     },
     "execution_count": 33,
     "metadata": {},
     "output_type": "execute_result"
    }
   ],
   "source": [
    "45+65\n"
   ]
  },
  {
   "cell_type": "code",
   "execution_count": 34,
   "id": "1ee4b5aa-b11c-4888-b811-e4db5b471b49",
   "metadata": {},
   "outputs": [
    {
     "data": {
      "text/plain": [
       "0"
      ]
     },
     "execution_count": 34,
     "metadata": {},
     "output_type": "execute_result"
    }
   ],
   "source": [
    "45-45"
   ]
  },
  {
   "cell_type": "code",
   "execution_count": 35,
   "id": "4e94109c-c98c-4504-8d0d-4819508214ba",
   "metadata": {},
   "outputs": [
    {
     "data": {
      "text/plain": [
       "8"
      ]
     },
     "execution_count": 35,
     "metadata": {},
     "output_type": "execute_result"
    }
   ],
   "source": [
    "2*4"
   ]
  },
  {
   "cell_type": "code",
   "execution_count": 36,
   "id": "6de23ae0-91ab-4b09-a0f2-3b3ad9496857",
   "metadata": {},
   "outputs": [
    {
     "data": {
      "text/plain": [
       "2.0"
      ]
     },
     "execution_count": 36,
     "metadata": {},
     "output_type": "execute_result"
    }
   ],
   "source": [
    "4/2"
   ]
  },
  {
   "cell_type": "code",
   "execution_count": 37,
   "id": "ae407674-ce7e-4608-a608-ef107c156004",
   "metadata": {},
   "outputs": [
    {
     "data": {
      "text/plain": [
       "2"
      ]
     },
     "execution_count": 37,
     "metadata": {},
     "output_type": "execute_result"
    }
   ],
   "source": [
    "4//2"
   ]
  },
  {
   "cell_type": "code",
   "execution_count": 38,
   "id": "7d4605a7-407e-4604-acfd-b78801e930fa",
   "metadata": {},
   "outputs": [
    {
     "data": {
      "text/plain": [
       "0"
      ]
     },
     "execution_count": 38,
     "metadata": {},
     "output_type": "execute_result"
    }
   ],
   "source": [
    "4%2"
   ]
  },
  {
   "cell_type": "code",
   "execution_count": null,
   "id": "6e45fdaf-01b8-4ea2-a87f-9990d752a372",
   "metadata": {},
   "outputs": [],
   "source": []
  }
 ],
 "metadata": {
  "kernelspec": {
   "display_name": "Python 3 (ipykernel)",
   "language": "python",
   "name": "python3"
  },
  "language_info": {
   "codemirror_mode": {
    "name": "ipython",
    "version": 3
   },
   "file_extension": ".py",
   "mimetype": "text/x-python",
   "name": "python",
   "nbconvert_exporter": "python",
   "pygments_lexer": "ipython3",
   "version": "3.11.5"
  }
 },
 "nbformat": 4,
 "nbformat_minor": 5
}
