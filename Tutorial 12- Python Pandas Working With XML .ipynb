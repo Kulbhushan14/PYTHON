{
 "cells": [
  {
   "cell_type": "markdown",
   "id": "bf8051df-65f4-4a15-9c91-31008cdd7f02",
   "metadata": {},
   "source": [
    "## Tutorial 12- Python Pandas Working With XML Tutorials- Part 5\n"
   ]
  },
  {
   "cell_type": "markdown",
   "id": "36f51afa-5168-4bfb-a5c4-3895db90834d",
   "metadata": {},
   "source": [
    "1. Read XML and get Dataframe\r",
    "2. \n",
    "Convert Dataframe to XMLendation"
   ]
  },
  {
   "cell_type": "markdown",
   "id": "eb975c09-fc38-4dec-990a-d6c774e7e1fa",
   "metadata": {},
   "source": [
    "#### What is XML?\n",
    "\n",
    "1. XML stands for eXtensible Markup Language\n",
    "2. XML is a markup language much like HTML\n",
    "3. XML was designed to store and transport data\n",
    "4. XML was designed to be self-descriptive\n",
    "5. XML is a W3C Recommendation"
   ]
  },
  {
   "cell_type": "code",
   "execution_count": 11,
   "id": "83bdca87-60f0-4438-a649-75c7dd22b777",
   "metadata": {},
   "outputs": [],
   "source": [
    "import pandas as pd\n",
    "from io import StringIO"
   ]
  },
  {
   "cell_type": "code",
   "execution_count": 2,
   "id": "df5315b4-0af3-49f5-ac33-15ca7c5510f9",
   "metadata": {},
   "outputs": [
    {
     "data": {
      "text/html": [
       "<div>\n",
       "<style scoped>\n",
       "    .dataframe tbody tr th:only-of-type {\n",
       "        vertical-align: middle;\n",
       "    }\n",
       "\n",
       "    .dataframe tbody tr th {\n",
       "        vertical-align: top;\n",
       "    }\n",
       "\n",
       "    .dataframe thead th {\n",
       "        text-align: right;\n",
       "    }\n",
       "</style>\n",
       "<table border=\"1\" class=\"dataframe\">\n",
       "  <thead>\n",
       "    <tr style=\"text-align: right;\">\n",
       "      <th></th>\n",
       "      <th>shape</th>\n",
       "      <th>degrees</th>\n",
       "      <th>sides</th>\n",
       "    </tr>\n",
       "  </thead>\n",
       "  <tbody>\n",
       "    <tr>\n",
       "      <th>0</th>\n",
       "      <td>square</td>\n",
       "      <td>360</td>\n",
       "      <td>4.0</td>\n",
       "    </tr>\n",
       "    <tr>\n",
       "      <th>1</th>\n",
       "      <td>circle</td>\n",
       "      <td>360</td>\n",
       "      <td>NaN</td>\n",
       "    </tr>\n",
       "    <tr>\n",
       "      <th>2</th>\n",
       "      <td>triangle</td>\n",
       "      <td>180</td>\n",
       "      <td>3.0</td>\n",
       "    </tr>\n",
       "  </tbody>\n",
       "</table>\n",
       "</div>"
      ],
      "text/plain": [
       "      shape  degrees  sides\n",
       "0    square      360    4.0\n",
       "1    circle      360    NaN\n",
       "2  triangle      180    3.0"
      ]
     },
     "execution_count": 2,
     "metadata": {},
     "output_type": "execute_result"
    }
   ],
   "source": [
    "pd.read_xml('test.xml')"
   ]
  },
  {
   "cell_type": "code",
   "execution_count": 3,
   "id": "381bb77c-02cf-4cdc-a905-964b4bcd78f8",
   "metadata": {},
   "outputs": [],
   "source": [
    "xml = '''<?xml version='1.0' encoding='utf-8'?>\n",
    "<data xmlns=\"http://example.com\">\n",
    " <row>\n",
    "   <shape>square</shape>\n",
    "   <degrees>360</degrees>\n",
    "   <sides>4.0</sides>\n",
    "   <firstname>Krish</firstname>\n",
    " </row>\n",
    " <row>\n",
    "   <shape>circle</shape>\n",
    "   <degrees>360</degrees>\n",
    "   <sides/>\n",
    "   <firstname/>\n",
    " </row>\n",
    " <row>\n",
    "   <shape>triangle</shape>\n",
    "   <degrees>180</degrees>\n",
    "   <sides>3.0</sides>\n",
    "   <firstname/>\n",
    " </row>\n",
    "</data>'''"
   ]
  },
  {
   "cell_type": "code",
   "execution_count": 4,
   "id": "e13b1109-d37e-422a-8e5f-64d7325b573a",
   "metadata": {},
   "outputs": [
    {
     "name": "stderr",
     "output_type": "stream",
     "text": [
      "C:\\Users\\Admin\\AppData\\Local\\Temp\\ipykernel_2848\\2704978085.py:1: FutureWarning: Passing literal xml to 'read_xml' is deprecated and will be removed in a future version. To read from a literal string, wrap it in a 'StringIO' object.\n",
      "  pd.read_xml(xml)\n"
     ]
    },
    {
     "data": {
      "text/html": [
       "<div>\n",
       "<style scoped>\n",
       "    .dataframe tbody tr th:only-of-type {\n",
       "        vertical-align: middle;\n",
       "    }\n",
       "\n",
       "    .dataframe tbody tr th {\n",
       "        vertical-align: top;\n",
       "    }\n",
       "\n",
       "    .dataframe thead th {\n",
       "        text-align: right;\n",
       "    }\n",
       "</style>\n",
       "<table border=\"1\" class=\"dataframe\">\n",
       "  <thead>\n",
       "    <tr style=\"text-align: right;\">\n",
       "      <th></th>\n",
       "      <th>shape</th>\n",
       "      <th>degrees</th>\n",
       "      <th>sides</th>\n",
       "      <th>firstname</th>\n",
       "    </tr>\n",
       "  </thead>\n",
       "  <tbody>\n",
       "    <tr>\n",
       "      <th>0</th>\n",
       "      <td>square</td>\n",
       "      <td>360</td>\n",
       "      <td>4.0</td>\n",
       "      <td>Krish</td>\n",
       "    </tr>\n",
       "    <tr>\n",
       "      <th>1</th>\n",
       "      <td>circle</td>\n",
       "      <td>360</td>\n",
       "      <td>NaN</td>\n",
       "      <td>None</td>\n",
       "    </tr>\n",
       "    <tr>\n",
       "      <th>2</th>\n",
       "      <td>triangle</td>\n",
       "      <td>180</td>\n",
       "      <td>3.0</td>\n",
       "      <td>None</td>\n",
       "    </tr>\n",
       "  </tbody>\n",
       "</table>\n",
       "</div>"
      ],
      "text/plain": [
       "      shape  degrees  sides firstname\n",
       "0    square      360    4.0     Krish\n",
       "1    circle      360    NaN      None\n",
       "2  triangle      180    3.0      None"
      ]
     },
     "execution_count": 4,
     "metadata": {},
     "output_type": "execute_result"
    }
   ],
   "source": [
    "pd.read_xml(xml)"
   ]
  },
  {
   "cell_type": "code",
   "execution_count": 5,
   "id": "f6e1248b-95a6-4c1d-9cc1-6a2fc48452fd",
   "metadata": {},
   "outputs": [],
   "source": [
    "xml = '''<?xml version='1.0' encoding='utf-8'?>\n",
    "<data>\n",
    "  <row shape=\"square\" degrees=\"360\" sides=\"4.0\" firstname=\"Krish\"/>\n",
    "  <row shape=\"circle\" degrees=\"360\"/>\n",
    "  <row shape=\"triangle\" degrees=\"180\" sides=\"3.0\" lastname=\"Naik\"/>\n",
    "</data>'''"
   ]
  },
  {
   "cell_type": "code",
   "execution_count": 6,
   "id": "c69c41ce-6560-4704-acbe-20efa2b81ebf",
   "metadata": {},
   "outputs": [
    {
     "name": "stderr",
     "output_type": "stream",
     "text": [
      "C:\\Users\\Admin\\AppData\\Local\\Temp\\ipykernel_2848\\2888431730.py:1: FutureWarning: Passing literal xml to 'read_xml' is deprecated and will be removed in a future version. To read from a literal string, wrap it in a 'StringIO' object.\n",
      "  pd.read_xml(xml,xpath=\".//row\")\n"
     ]
    },
    {
     "data": {
      "text/html": [
       "<div>\n",
       "<style scoped>\n",
       "    .dataframe tbody tr th:only-of-type {\n",
       "        vertical-align: middle;\n",
       "    }\n",
       "\n",
       "    .dataframe tbody tr th {\n",
       "        vertical-align: top;\n",
       "    }\n",
       "\n",
       "    .dataframe thead th {\n",
       "        text-align: right;\n",
       "    }\n",
       "</style>\n",
       "<table border=\"1\" class=\"dataframe\">\n",
       "  <thead>\n",
       "    <tr style=\"text-align: right;\">\n",
       "      <th></th>\n",
       "      <th>shape</th>\n",
       "      <th>degrees</th>\n",
       "      <th>sides</th>\n",
       "      <th>firstname</th>\n",
       "      <th>lastname</th>\n",
       "    </tr>\n",
       "  </thead>\n",
       "  <tbody>\n",
       "    <tr>\n",
       "      <th>0</th>\n",
       "      <td>square</td>\n",
       "      <td>360</td>\n",
       "      <td>4.0</td>\n",
       "      <td>Krish</td>\n",
       "      <td>None</td>\n",
       "    </tr>\n",
       "    <tr>\n",
       "      <th>1</th>\n",
       "      <td>circle</td>\n",
       "      <td>360</td>\n",
       "      <td>NaN</td>\n",
       "      <td>None</td>\n",
       "      <td>None</td>\n",
       "    </tr>\n",
       "    <tr>\n",
       "      <th>2</th>\n",
       "      <td>triangle</td>\n",
       "      <td>180</td>\n",
       "      <td>3.0</td>\n",
       "      <td>None</td>\n",
       "      <td>Naik</td>\n",
       "    </tr>\n",
       "  </tbody>\n",
       "</table>\n",
       "</div>"
      ],
      "text/plain": [
       "      shape  degrees  sides firstname lastname\n",
       "0    square      360    4.0     Krish     None\n",
       "1    circle      360    NaN      None     None\n",
       "2  triangle      180    3.0      None     Naik"
      ]
     },
     "execution_count": 6,
     "metadata": {},
     "output_type": "execute_result"
    }
   ],
   "source": [
    "pd.read_xml(xml,xpath=\".//row\")"
   ]
  },
  {
   "cell_type": "code",
   "execution_count": 7,
   "id": "feb1fb72-8737-413f-904e-3ecc6815d177",
   "metadata": {},
   "outputs": [],
   "source": [
    "xml = '''<?xml version='1.0' encoding='utf-8'?>\n",
    "<doc:data xmlns:doc=\"https://example.com\">\n",
    "  <doc:row>\n",
    "    <doc:shape>square</doc:shape>\n",
    "    <doc:degrees>360</doc:degrees>\n",
    "    <doc:sides>4.0</doc:sides>\n",
    "  </doc:row>\n",
    "  <doc:row>\n",
    "    <doc:shape>circle</doc:shape>\n",
    "    <doc:degrees>360</doc:degrees>\n",
    "    <doc:sides/>\n",
    "  </doc:row>\n",
    "  <doc:row>\n",
    "    <doc:shape>triangle</doc:shape>\n",
    "    <doc:degrees>180</doc:degrees>\n",
    "    <doc:sides>3.0</doc:sides>\n",
    "  </doc:row>\n",
    "</doc:data>'''"
   ]
  },
  {
   "cell_type": "code",
   "execution_count": 14,
   "id": "45280c99-71fa-491f-af6e-91c4f6176fb6",
   "metadata": {},
   "outputs": [
    {
     "data": {
      "text/html": [
       "<div>\n",
       "<style scoped>\n",
       "    .dataframe tbody tr th:only-of-type {\n",
       "        vertical-align: middle;\n",
       "    }\n",
       "\n",
       "    .dataframe tbody tr th {\n",
       "        vertical-align: top;\n",
       "    }\n",
       "\n",
       "    .dataframe thead th {\n",
       "        text-align: right;\n",
       "    }\n",
       "</style>\n",
       "<table border=\"1\" class=\"dataframe\">\n",
       "  <thead>\n",
       "    <tr style=\"text-align: right;\">\n",
       "      <th></th>\n",
       "      <th>shape</th>\n",
       "      <th>degrees</th>\n",
       "      <th>sides</th>\n",
       "    </tr>\n",
       "  </thead>\n",
       "  <tbody>\n",
       "    <tr>\n",
       "      <th>0</th>\n",
       "      <td>square</td>\n",
       "      <td>360</td>\n",
       "      <td>4.0</td>\n",
       "    </tr>\n",
       "    <tr>\n",
       "      <th>1</th>\n",
       "      <td>circle</td>\n",
       "      <td>360</td>\n",
       "      <td>NaN</td>\n",
       "    </tr>\n",
       "    <tr>\n",
       "      <th>2</th>\n",
       "      <td>triangle</td>\n",
       "      <td>180</td>\n",
       "      <td>3.0</td>\n",
       "    </tr>\n",
       "  </tbody>\n",
       "</table>\n",
       "</div>"
      ],
      "text/plain": [
       "      shape  degrees  sides\n",
       "0    square      360    4.0\n",
       "1    circle      360    NaN\n",
       "2  triangle      180    3.0"
      ]
     },
     "execution_count": 14,
     "metadata": {},
     "output_type": "execute_result"
    }
   ],
   "source": [
    "df=pd.read_xml(StringIO(xml),xpath=\".//doc:row\",namespaces={\"doc\": \"https://example.com\"})\n",
    "df"
   ]
  },
  {
   "cell_type": "code",
   "execution_count": 13,
   "id": "6fe6594a-f84d-4a11-992c-20ebaf13fa6e",
   "metadata": {},
   "outputs": [],
   "source": [
    "\n",
    "df.to_xml('test1.xml')"
   ]
  },
  {
   "cell_type": "code",
   "execution_count": null,
   "id": "02932831-ea8a-4477-95f5-c1eb6227ad0f",
   "metadata": {},
   "outputs": [],
   "source": []
  }
 ],
 "metadata": {
  "kernelspec": {
   "display_name": "Python 3 (ipykernel)",
   "language": "python",
   "name": "python3"
  },
  "language_info": {
   "codemirror_mode": {
    "name": "ipython",
    "version": 3
   },
   "file_extension": ".py",
   "mimetype": "text/x-python",
   "name": "python",
   "nbconvert_exporter": "python",
   "pygments_lexer": "ipython3",
   "version": "3.11.7"
  },
  "widgets": {
   "application/vnd.jupyter.widget-state+json": {
    "state": {},
    "version_major": 2,
    "version_minor": 0
   }
  }
 },
 "nbformat": 4,
 "nbformat_minor": 5
}
