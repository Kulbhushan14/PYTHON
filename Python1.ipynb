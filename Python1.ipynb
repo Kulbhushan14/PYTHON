{
 "cells": [
  {
   "cell_type": "markdown",
   "id": "e023ce1e-0e85-4b0b-9593-9aba5a92a315",
   "metadata": {},
   "source": [
    "## Python Basic\n"
   ]
  },
  {
   "cell_type": "markdown",
   "id": "a058afd0-a11c-4f81-8c6c-95b63c9834d7",
   "metadata": {},
   "source": [
    "### Prting Statement\n"
   ]
  },
  {
   "cell_type": "code",
   "execution_count": 1,
   "id": "a3fcae8c-bdda-41bc-99ce-f117d61a27d9",
   "metadata": {},
   "outputs": [
    {
     "name": "stdout",
     "output_type": "stream",
     "text": [
      "hello\n"
     ]
    }
   ],
   "source": [
    "print(\"hello\")"
   ]
  },
  {
   "cell_type": "markdown",
   "id": "071c6330-17d4-4c41-a23b-3ad1fa4572fd",
   "metadata": {},
   "source": [
    "# Comment\n",
    "single line and multiline comment "
   ]
  },
  {
   "cell_type": "markdown",
   "id": "6c2a2515-5b4c-40c5-8654-63ab2b04c5ab",
   "metadata": {},
   "source": [
    "single line we use #\n",
    "and \n",
    "multi line we use \"\"\" \"\"\""
   ]
  },
  {
   "cell_type": "markdown",
   "id": "b4cb6af2-c706-4e55-bb5f-5e329b090819",
   "metadata": {},
   "source": [
    "## Variable declaration\n",
    "\n",
    "variable name = variable value"
   ]
  },
  {
   "cell_type": "code",
   "execution_count": 2,
   "id": "9ef2b40a-84b9-44bb-80f1-28912b33964a",
   "metadata": {},
   "outputs": [
    {
     "data": {
      "text/plain": [
       "int"
      ]
     },
     "execution_count": 2,
     "metadata": {},
     "output_type": "execute_result"
    }
   ],
   "source": [
    "a=10\n",
    "type(a) # to find the which type of variable it is. and type() is take only one argument."
   ]
  },
  {
   "cell_type": "code",
   "execution_count": 3,
   "id": "815b0542-13ff-451d-8a7e-6338945808af",
   "metadata": {},
   "outputs": [
    {
     "name": "stdout",
     "output_type": "stream",
     "text": [
      "10\n"
     ]
    }
   ],
   "source": [
    "print(a)"
   ]
  },
  {
   "cell_type": "markdown",
   "id": "3c81fccc-6cd4-4792-a93c-8cae0439a876",
   "metadata": {},
   "source": [
    "## Data type"
   ]
  },
  {
   "cell_type": "markdown",
   "id": "dd71e96b-b0e0-466f-a2f4-b7f90d3e7501",
   "metadata": {},
   "source": [
    " integer"
   ]
  },
  {
   "cell_type": "code",
   "execution_count": 10,
   "id": "90c459f0-c448-4a9b-9c17-cd2f02bd7a97",
   "metadata": {},
   "outputs": [
    {
     "data": {
      "text/plain": [
       "int"
      ]
     },
     "execution_count": 10,
     "metadata": {},
     "output_type": "execute_result"
    }
   ],
   "source": [
    "a=10\n",
    "type(a)"
   ]
  },
  {
   "cell_type": "code",
   "execution_count": 12,
   "id": "df45fe44-1fa4-48ac-9c45-bdfe04341bd6",
   "metadata": {},
   "outputs": [
    {
     "data": {
      "text/plain": [
       "20"
      ]
     },
     "execution_count": 12,
     "metadata": {},
     "output_type": "execute_result"
    }
   ],
   "source": [
    "a+10\n"
   ]
  },
  {
   "cell_type": "code",
   "execution_count": 13,
   "id": "9286e25f-d750-4980-9d74-3e4c2b603fe4",
   "metadata": {},
   "outputs": [
    {
     "name": "stdout",
     "output_type": "stream",
     "text": [
      "<class 'int'>\n"
     ]
    }
   ],
   "source": [
    "print(type(a))"
   ]
  },
  {
   "cell_type": "code",
   "execution_count": 14,
   "id": "21081be0-0589-428a-80b2-6136ce9bdbf3",
   "metadata": {},
   "outputs": [
    {
     "name": "stdout",
     "output_type": "stream",
     "text": [
      "30\n"
     ]
    }
   ],
   "source": [
    "# tow variable addition \n",
    "a=10\n",
    "b=20\n",
    "print(a+b)"
   ]
  },
  {
   "cell_type": "markdown",
   "id": "415c3284-e275-4f53-942b-e1656806b9fe",
   "metadata": {},
   "source": [
    "float"
   ]
  },
  {
   "cell_type": "code",
   "execution_count": 15,
   "id": "1c3f577e-3da9-4a67-bae9-c56c1bc70db7",
   "metadata": {},
   "outputs": [],
   "source": [
    "c=102.2"
   ]
  },
  {
   "cell_type": "code",
   "execution_count": 16,
   "id": "9cd9cd0e-7750-41d8-b710-57aa3ce806e2",
   "metadata": {},
   "outputs": [
    {
     "name": "stdout",
     "output_type": "stream",
     "text": [
      "<class 'float'>\n"
     ]
    }
   ],
   "source": [
    "print(type(c))"
   ]
  },
  {
   "cell_type": "markdown",
   "id": "0fcd577a-0102-48db-ba43-d3948cbf0e90",
   "metadata": {},
   "source": [
    "## Type Casting\n",
    "It is coverting a one datatype into another datatype "
   ]
  },
  {
   "cell_type": "code",
   "execution_count": 17,
   "id": "317274a2-da68-4bd1-aecc-9d2a94323323",
   "metadata": {},
   "outputs": [
    {
     "data": {
      "text/plain": [
       "102"
      ]
     },
     "execution_count": 17,
     "metadata": {},
     "output_type": "execute_result"
    }
   ],
   "source": [
    "## type casting\n",
    "int(c)"
   ]
  },
  {
   "cell_type": "code",
   "execution_count": 18,
   "id": "3a6a8c48-02e3-407f-ae24-77bac2e38c9d",
   "metadata": {},
   "outputs": [
    {
     "data": {
      "text/plain": [
       "10.0"
      ]
     },
     "execution_count": 18,
     "metadata": {},
     "output_type": "execute_result"
    }
   ],
   "source": [
    "float(a)"
   ]
  },
  {
   "cell_type": "markdown",
   "id": "056db0f1-e0e7-4e8c-b988-c12c418e18e0",
   "metadata": {},
   "source": [
    "Boolean"
   ]
  },
  {
   "cell_type": "code",
   "execution_count": 19,
   "id": "3ed51563-ecc0-4f14-bffa-d503121bfad5",
   "metadata": {},
   "outputs": [
    {
     "data": {
      "text/plain": [
       "bool"
      ]
     },
     "execution_count": 19,
     "metadata": {},
     "output_type": "execute_result"
    }
   ],
   "source": [
    "a=True\n",
    "b=False\n",
    "type(a)"
   ]
  },
  {
   "cell_type": "code",
   "execution_count": 20,
   "id": "0a72f266-a32a-46a7-a1d2-135e8913d9db",
   "metadata": {},
   "outputs": [
    {
     "data": {
      "text/plain": [
       "False"
      ]
     },
     "execution_count": 20,
     "metadata": {},
     "output_type": "execute_result"
    }
   ],
   "source": [
    "## operation\n",
    "a and b"
   ]
  },
  {
   "cell_type": "code",
   "execution_count": 21,
   "id": "8caf02a3-49a1-4fdb-b814-152059c9de9b",
   "metadata": {},
   "outputs": [
    {
     "data": {
      "text/plain": [
       "True"
      ]
     },
     "execution_count": 21,
     "metadata": {},
     "output_type": "execute_result"
    }
   ],
   "source": [
    "a or b"
   ]
  },
  {
   "cell_type": "code",
   "execution_count": 22,
   "id": "9dcd4dbe-2c8d-4fcb-a824-47b18866f073",
   "metadata": {},
   "outputs": [
    {
     "data": {
      "text/plain": [
       "True"
      ]
     },
     "execution_count": 22,
     "metadata": {},
     "output_type": "execute_result"
    }
   ],
   "source": [
    "a | b"
   ]
  },
  {
   "cell_type": "markdown",
   "id": "9b4ddbb2-2a32-4572-92ae-c507949cf8fa",
   "metadata": {},
   "source": [
    "Strings"
   ]
  },
  {
   "cell_type": "code",
   "execution_count": 23,
   "id": "612a8c7f-52b6-4f8d-82c1-512c5627617e",
   "metadata": {},
   "outputs": [
    {
     "name": "stdout",
     "output_type": "stream",
     "text": [
      "kulbhushan\n",
      "<class 'str'>\n"
     ]
    }
   ],
   "source": [
    "name=\"kulbhushan\"\n",
    "print(name) # printing the value\n",
    "print(type(name)) #printing the type of varible"
   ]
  },
  {
   "cell_type": "code",
   "execution_count": 27,
   "id": "47587aba-a545-46b3-a149-ab547873439b",
   "metadata": {},
   "outputs": [
    {
     "name": "stdout",
     "output_type": "stream",
     "text": [
      "kulbhushan magdum\n"
     ]
    },
    {
     "data": {
      "text/plain": [
       "str"
      ]
     },
     "execution_count": 27,
     "metadata": {},
     "output_type": "execute_result"
    }
   ],
   "source": [
    "## operation like concatination operation\n",
    "print(name + \" magdum\") # concat the name with another string value\n",
    "\n",
    "type(\"magdum\") # check the type of vlaue "
   ]
  },
  {
   "cell_type": "markdown",
   "id": "6063854c-470e-4012-a99f-74b8b685f83a",
   "metadata": {},
   "source": [
    "  name + 1 \n",
    " we can't be concat this it will be consider as storng typing to do this "
   ]
  },
  {
   "cell_type": "code",
   "execution_count": 29,
   "id": "dc47c31d-71df-4f5a-934c-6fe332e03322",
   "metadata": {},
   "outputs": [
    {
     "data": {
      "text/plain": [
       "'kulbhushan1'"
      ]
     },
     "execution_count": 29,
     "metadata": {},
     "output_type": "execute_result"
    }
   ],
   "source": [
    "name + str(1) #dynamic typing "
   ]
  },
  {
   "cell_type": "markdown",
   "id": "e24b335c-6c18-4a01-81ba-249e8ae23f0e",
   "metadata": {},
   "source": [
    "## complex number"
   ]
  },
  {
   "cell_type": "code",
   "execution_count": 30,
   "id": "241ca80d-4d13-4491-8095-79bfafb83672",
   "metadata": {},
   "outputs": [
    {
     "data": {
      "text/plain": [
       "(1.2-2.3j)"
      ]
     },
     "execution_count": 30,
     "metadata": {},
     "output_type": "execute_result"
    }
   ],
   "source": [
    "j=1.2-2.3j\n",
    "j"
   ]
  },
  {
   "cell_type": "code",
   "execution_count": 31,
   "id": "d9878855-f5a9-4584-8d4d-f5eb95951b80",
   "metadata": {},
   "outputs": [
    {
     "name": "stdout",
     "output_type": "stream",
     "text": [
      "1.2 -2.3\n"
     ]
    }
   ],
   "source": [
    "print(j.real,j.imag)"
   ]
  },
  {
   "cell_type": "markdown",
   "id": "a72bdd9d-94ea-4c8c-91b6-6169ed78d00b",
   "metadata": {},
   "source": [
    "## string Formation\n",
    "using a palace holder { }\n",
    "using .format() it is use only for string fromat "
   ]
  },
  {
   "cell_type": "code",
   "execution_count": 33,
   "id": "15bfdf24-9181-4fbf-9d67-13295ff15eee",
   "metadata": {},
   "outputs": [
    {
     "name": "stdout",
     "output_type": "stream",
     "text": [
      "The value is -  200\n"
     ]
    }
   ],
   "source": [
    "d=200\n",
    "print(\"The value is - \",d)"
   ]
  },
  {
   "cell_type": "code",
   "execution_count": 34,
   "id": "943799e1-0f9e-4274-8d22-a2aa84bc52e2",
   "metadata": {},
   "outputs": [
    {
     "name": "stdout",
     "output_type": "stream",
     "text": [
      "My name is kulbhushan and surname is Magdum\n"
     ]
    }
   ],
   "source": [
    "first_name=\"kulbhushan\" # decalre the first name \n",
    "last_name=\"Magdum\"      # decalre the last name \n",
    "print(\"My name is {} and surname is {}\".format(first_name,last_name)) # printing the both value in systimatic way "
   ]
  },
  {
   "cell_type": "markdown",
   "id": "d68b7ecd-b507-468d-a096-c18ff3d6289a",
   "metadata": {},
   "source": [
    "# input type\n",
    "Getting the input from the user"
   ]
  },
  {
   "cell_type": "code",
   "execution_count": 36,
   "id": "0712bd06-a7de-4f50-80f8-f855f14046c5",
   "metadata": {},
   "outputs": [
    {
     "name": "stdout",
     "output_type": "stream",
     "text": [
      "Enter the name kulbhushan\n"
     ]
    },
    {
     "data": {
      "text/plain": [
       "'kulbhushan'"
      ]
     },
     "execution_count": 36,
     "metadata": {},
     "output_type": "execute_result"
    }
   ],
   "source": [
    "input(\"Enter the name\")"
   ]
  },
  {
   "cell_type": "code",
   "execution_count": 43,
   "id": "a53882f9-537d-4c39-8131-97b6073f905c",
   "metadata": {},
   "outputs": [
    {
     "name": "stdout",
     "output_type": "stream",
     "text": [
      "Enter the number a  12\n",
      "Enter the number b  22\n"
     ]
    },
    {
     "name": "stdout",
     "output_type": "stream",
     "text": [
      "1222\n",
      "34\n"
     ]
    }
   ],
   "source": [
    "a=input(\"Enter the number a \")\n",
    "b=input(\"Enter the number b \")\n",
    "#for the concat\n",
    "print(a+b)\n",
    "# for the addtion\n",
    "print(int(a)+int(b))"
   ]
  },
  {
   "cell_type": "code",
   "execution_count": null,
   "id": "1043665c-26e6-4e98-a607-df39b3728ba5",
   "metadata": {},
   "outputs": [],
   "source": []
  }
 ],
 "metadata": {
  "kernelspec": {
   "display_name": "Python 3 (ipykernel)",
   "language": "python",
   "name": "python3"
  },
  "language_info": {
   "codemirror_mode": {
    "name": "ipython",
    "version": 3
   },
   "file_extension": ".py",
   "mimetype": "text/x-python",
   "name": "python",
   "nbconvert_exporter": "python",
   "pygments_lexer": "ipython3",
   "version": "3.11.5"
  }
 },
 "nbformat": 4,
 "nbformat_minor": 5
}
