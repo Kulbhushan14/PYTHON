{
 "cells": [
  {
   "cell_type": "markdown",
   "id": "35fd525e-563b-4e46-93df-b5d77a1befb7",
   "metadata": {},
   "source": [
    "# Python Number Methods"
   ]
  },
  {
   "cell_type": "markdown",
   "id": "992cb603-5f51-4c51-9f49-da304fe533d2",
   "metadata": {},
   "source": [
    "### Absulate \n",
    "**abs(x)**:-\n",
    "will return the absolute value of number which was pass in argument. the number can be integer,float,complex,...."
   ]
  },
  {
   "cell_type": "code",
   "execution_count": 1,
   "id": "a3b59802-c16e-4c90-88d3-a30a2e2c09f8",
   "metadata": {},
   "outputs": [
    {
     "data": {
      "text/plain": [
       "10"
      ]
     },
     "execution_count": 1,
     "metadata": {},
     "output_type": "execute_result"
    }
   ],
   "source": [
    "abs(10)"
   ]
  },
  {
   "cell_type": "code",
   "execution_count": 2,
   "id": "7841d200-aeea-447b-8635-55f1964e00d5",
   "metadata": {},
   "outputs": [
    {
     "data": {
      "text/plain": [
       "10"
      ]
     },
     "execution_count": 2,
     "metadata": {},
     "output_type": "execute_result"
    }
   ],
   "source": [
    "abs(-10)"
   ]
  },
  {
   "cell_type": "code",
   "execution_count": 3,
   "id": "7e9a0e84-5328-4f7d-b98d-aa481cfd8421",
   "metadata": {},
   "outputs": [
    {
     "data": {
      "text/plain": [
       "20.02"
      ]
     },
     "execution_count": 3,
     "metadata": {},
     "output_type": "execute_result"
    }
   ],
   "source": [
    "abs(20.02)"
   ]
  },
  {
   "cell_type": "code",
   "execution_count": 4,
   "id": "95a67177-d676-4ee7-a85f-f01a927b1062",
   "metadata": {},
   "outputs": [
    {
     "data": {
      "text/plain": [
       "20.2"
      ]
     },
     "execution_count": 4,
     "metadata": {},
     "output_type": "execute_result"
    }
   ],
   "source": [
    "abs(20.20)"
   ]
  },
  {
   "cell_type": "code",
   "execution_count": 5,
   "id": "bcd0b244-7fa4-4915-a490-04bdbb7f4840",
   "metadata": {},
   "outputs": [
    {
     "data": {
      "text/plain": [
       "50"
      ]
     },
     "execution_count": 5,
     "metadata": {},
     "output_type": "execute_result"
    }
   ],
   "source": [
    "abs(-50)"
   ]
  },
  {
   "cell_type": "markdown",
   "id": "517c7f3f-df6c-49e1-8181-d3d8ba5d270d",
   "metadata": {},
   "source": [
    "### Ceil\n",
    "**ceil(x)**:- will return the ceilling value of a number x which was pass in argument. The ceilling value of a number x will be the smallest integer not less than x.\n",
    "\n",
    "  **This function will not be accessible directly using ceil() method. Math module will be required to access this method.**"
   ]
  },
  {
   "cell_type": "code",
   "execution_count": 6,
   "id": "0e78ece8-db6e-403d-8062-2b745d561753",
   "metadata": {},
   "outputs": [],
   "source": [
    "import math\n"
   ]
  },
  {
   "cell_type": "code",
   "execution_count": 7,
   "id": "e6ac37e2-145f-49c1-b78f-d3e0cfdeae4d",
   "metadata": {},
   "outputs": [
    {
     "data": {
      "text/plain": [
       "44"
      ]
     },
     "execution_count": 7,
     "metadata": {},
     "output_type": "execute_result"
    }
   ],
   "source": [
    "math.ceil(43.2)"
   ]
  },
  {
   "cell_type": "code",
   "execution_count": 8,
   "id": "9ab10ee0-a58d-4fbb-be09-9cc0800ed469",
   "metadata": {},
   "outputs": [
    {
     "data": {
      "text/plain": [
       "46"
      ]
     },
     "execution_count": 8,
     "metadata": {},
     "output_type": "execute_result"
    }
   ],
   "source": [
    "math.ceil(45.5)"
   ]
  },
  {
   "cell_type": "code",
   "execution_count": 10,
   "id": "549ee937-0259-4533-93e0-a962b6f49767",
   "metadata": {},
   "outputs": [
    {
     "data": {
      "text/plain": [
       "45"
      ]
     },
     "execution_count": 10,
     "metadata": {},
     "output_type": "execute_result"
    }
   ],
   "source": [
    "math.ceil(45.0)"
   ]
  },
  {
   "cell_type": "code",
   "execution_count": 11,
   "id": "e2762372-bada-450b-8caa-687fb3c139fc",
   "metadata": {},
   "outputs": [
    {
     "data": {
      "text/plain": [
       "46"
      ]
     },
     "execution_count": 11,
     "metadata": {},
     "output_type": "execute_result"
    }
   ],
   "source": [
    "math.ceil(45.12)"
   ]
  },
  {
   "cell_type": "markdown",
   "id": "f44064c6-a89d-4db3-81f1-5869c04e66d4",
   "metadata": {},
   "source": [
    "### floor"
   ]
  },
  {
   "cell_type": "code",
   "execution_count": 12,
   "id": "8dbe26a9-f7a3-4e1e-a7cc-ae9d310966ef",
   "metadata": {},
   "outputs": [
    {
     "data": {
      "text/plain": [
       "45"
      ]
     },
     "execution_count": 12,
     "metadata": {},
     "output_type": "execute_result"
    }
   ],
   "source": [
    "math.floor(45.2)"
   ]
  },
  {
   "cell_type": "markdown",
   "id": "778cbfbd-4d5b-471b-a78c-1d10ea135f0b",
   "metadata": {},
   "source": [
    "### EXP()\n",
    "\n",
    "**exp()**:- will return the exponential value of a number x which we pass in argument.\n",
    "\n",
    "**Note**-- **This function will not be accessible driectly using exp() method. Math number will be required to access this method.**"
   ]
  },
  {
   "cell_type": "code",
   "execution_count": 13,
   "id": "9fe4904e-8d54-4ef9-a6ce-fa99ee679a6c",
   "metadata": {},
   "outputs": [
    {
     "data": {
      "text/plain": [
       "22026.465794806718"
      ]
     },
     "execution_count": 13,
     "metadata": {},
     "output_type": "execute_result"
    }
   ],
   "source": [
    "math.exp(10)"
   ]
  },
  {
   "cell_type": "code",
   "execution_count": 14,
   "id": "06efc53c-70a4-4bec-9fcb-cd3e16c13ff4",
   "metadata": {},
   "outputs": [
    {
     "data": {
      "text/plain": [
       "0.0009118819655545162"
      ]
     },
     "execution_count": 14,
     "metadata": {},
     "output_type": "execute_result"
    }
   ],
   "source": [
    "math.exp(-7)"
   ]
  },
  {
   "cell_type": "markdown",
   "id": "cfd6267f-8ee5-4035-8ebf-85bce1ea63e5",
   "metadata": {},
   "source": [
    "### fabs\n",
    "**fabs()**"
   ]
  },
  {
   "cell_type": "code",
   "execution_count": 15,
   "id": "3bcb59a9-22f4-4e4d-84b9-538133162988",
   "metadata": {},
   "outputs": [
    {
     "data": {
      "text/plain": [
       "10.4"
      ]
     },
     "execution_count": 15,
     "metadata": {},
     "output_type": "execute_result"
    }
   ],
   "source": [
    "math.fabs(10.4)"
   ]
  },
  {
   "cell_type": "code",
   "execution_count": 16,
   "id": "d980f13b-8daf-46fb-b71e-97d03e2e8110",
   "metadata": {},
   "outputs": [
    {
     "data": {
      "text/plain": [
       "1.01"
      ]
     },
     "execution_count": 16,
     "metadata": {},
     "output_type": "execute_result"
    }
   ],
   "source": [
    "math.fabs(-1.01)"
   ]
  },
  {
   "cell_type": "markdown",
   "id": "505f81f1-46e0-4fa9-bb4b-09c2c6f4a372",
   "metadata": {},
   "source": [
    "### log(x)\n",
    "Base of the metho will be 2\n",
    "for change the base to 10 \n",
    "**log10(x) this method will be work**"
   ]
  },
  {
   "cell_type": "code",
   "execution_count": 19,
   "id": "b25870b9-4920-4d09-9926-86f5013a0da6",
   "metadata": {},
   "outputs": [
    {
     "data": {
      "text/plain": [
       "2.302585092994046"
      ]
     },
     "execution_count": 19,
     "metadata": {},
     "output_type": "execute_result"
    }
   ],
   "source": [
    "math.log(10)"
   ]
  },
  {
   "cell_type": "code",
   "execution_count": 18,
   "id": "8d1ba4c1-7b49-4301-a18c-941ffbb128e5",
   "metadata": {},
   "outputs": [
    {
     "data": {
      "text/plain": [
       "0.0"
      ]
     },
     "execution_count": 18,
     "metadata": {},
     "output_type": "execute_result"
    }
   ],
   "source": [
    "math.log(1)"
   ]
  },
  {
   "cell_type": "code",
   "execution_count": 20,
   "id": "c0ac13f7-c9c9-4f8a-a0ab-406fc9dee378",
   "metadata": {},
   "outputs": [
    {
     "data": {
      "text/plain": [
       "1.0"
      ]
     },
     "execution_count": 20,
     "metadata": {},
     "output_type": "execute_result"
    }
   ],
   "source": [
    "math.log10(10)"
   ]
  },
  {
   "cell_type": "markdown",
   "id": "9f2f6837-fb81-4df9-9ba2-391ffa30ff3c",
   "metadata": {},
   "source": [
    "### MAX()"
   ]
  },
  {
   "cell_type": "code",
   "execution_count": 21,
   "id": "b4ca5dbf-6285-4624-8b67-a8feeb8c72ce",
   "metadata": {},
   "outputs": [
    {
     "data": {
      "text/plain": [
       "100"
      ]
     },
     "execution_count": 21,
     "metadata": {},
     "output_type": "execute_result"
    }
   ],
   "source": [
    "max(10,20,5,100)"
   ]
  },
  {
   "cell_type": "markdown",
   "id": "39d1a7a4-729b-4ebb-ac64-0a83ae9425ae",
   "metadata": {},
   "source": [
    "### MIN()"
   ]
  },
  {
   "cell_type": "code",
   "execution_count": 22,
   "id": "30a8ca62-fd37-4b85-acd8-808d49f7e990",
   "metadata": {},
   "outputs": [
    {
     "data": {
      "text/plain": [
       "10"
      ]
     },
     "execution_count": 22,
     "metadata": {},
     "output_type": "execute_result"
    }
   ],
   "source": [
    "min(10,20,50,100)"
   ]
  },
  {
   "cell_type": "markdown",
   "id": "0c322ad4-cee7-4bda-b91f-9a8f96081540",
   "metadata": {},
   "source": [
    "### Power\n",
    "**pow()**"
   ]
  },
  {
   "cell_type": "code",
   "execution_count": 26,
   "id": "76acb37e-6ecf-4f87-af0f-356da8f90d69",
   "metadata": {},
   "outputs": [
    {
     "data": {
      "text/plain": [
       "100.0"
      ]
     },
     "execution_count": 26,
     "metadata": {},
     "output_type": "execute_result"
    }
   ],
   "source": [
    "import math\n",
    "math.pow(10,2)"
   ]
  },
  {
   "cell_type": "code",
   "execution_count": 27,
   "id": "3a01076e-7d73-4e4c-9d2e-1ac3f0f0b570",
   "metadata": {},
   "outputs": [
    {
     "data": {
      "text/plain": [
       "32.0"
      ]
     },
     "execution_count": 27,
     "metadata": {},
     "output_type": "execute_result"
    }
   ],
   "source": [
    "math.pow(2,5)"
   ]
  },
  {
   "cell_type": "markdown",
   "id": "c517b31e-e799-4dca-9c2c-beb572c97fa6",
   "metadata": {},
   "source": [
    "### SQRT()\n",
    "**sqrt()**"
   ]
  },
  {
   "cell_type": "code",
   "execution_count": 29,
   "id": "eb2b9fc5-d762-4416-b703-a26e8e9ebd92",
   "metadata": {},
   "outputs": [
    {
     "data": {
      "text/plain": [
       "4.47213595499958"
      ]
     },
     "execution_count": 29,
     "metadata": {},
     "output_type": "execute_result"
    }
   ],
   "source": [
    "math.sqrt(20)"
   ]
  },
  {
   "cell_type": "code",
   "execution_count": 30,
   "id": "c1137efd-9d44-471f-88e2-0bf3a5dd9484",
   "metadata": {},
   "outputs": [
    {
     "data": {
      "text/plain": [
       "2.0"
      ]
     },
     "execution_count": 30,
     "metadata": {},
     "output_type": "execute_result"
    }
   ],
   "source": [
    "math.sqrt(4)"
   ]
  },
  {
   "cell_type": "code",
   "execution_count": 31,
   "id": "9157c096-7ac8-4538-99a6-8c6894582dfa",
   "metadata": {},
   "outputs": [
    {
     "data": {
      "text/plain": [
       "9.0"
      ]
     },
     "execution_count": 31,
     "metadata": {},
     "output_type": "execute_result"
    }
   ],
   "source": [
    "math.sqrt(81)"
   ]
  },
  {
   "cell_type": "markdown",
   "id": "c31cad13-770e-44e9-a280-a54f27893fde",
   "metadata": {},
   "source": [
    "### Triggnometric Function"
   ]
  },
  {
   "cell_type": "code",
   "execution_count": 32,
   "id": "7358f1e9-78c9-4afb-b0cf-ac2258ab4e51",
   "metadata": {},
   "outputs": [
    {
     "data": {
      "text/plain": [
       "0.0"
      ]
     },
     "execution_count": 32,
     "metadata": {},
     "output_type": "execute_result"
    }
   ],
   "source": [
    "import math\n",
    "math.sin(0)\n"
   ]
  },
  {
   "cell_type": "code",
   "execution_count": 33,
   "id": "1bfce557-9515-448e-8565-cb251f046521",
   "metadata": {},
   "outputs": [
    {
     "data": {
      "text/plain": [
       "1.0"
      ]
     },
     "execution_count": 33,
     "metadata": {},
     "output_type": "execute_result"
    }
   ],
   "source": [
    "math.cos(0)"
   ]
  },
  {
   "cell_type": "code",
   "execution_count": 34,
   "id": "4bbd11d0-b14c-416a-bbfd-841880dc37d7",
   "metadata": {},
   "outputs": [
    {
     "data": {
      "text/plain": [
       "1.5574077246549023"
      ]
     },
     "execution_count": 34,
     "metadata": {},
     "output_type": "execute_result"
    }
   ],
   "source": [
    "math.tan(1)"
   ]
  },
  {
   "cell_type": "markdown",
   "id": "af738ac4-12db-4bf9-adc3-c7b074917d56",
   "metadata": {},
   "source": [
    "## modf()"
   ]
  },
  {
   "cell_type": "code",
   "execution_count": 47,
   "id": "673ecb90-605f-478e-9a2b-afe85eca000c",
   "metadata": {},
   "outputs": [
    {
     "data": {
      "text/plain": [
       "(0.0, 5.0)"
      ]
     },
     "execution_count": 47,
     "metadata": {},
     "output_type": "execute_result"
    }
   ],
   "source": [
    "import math\n",
    "math.modf(5)"
   ]
  },
  {
   "cell_type": "markdown",
   "id": "b24fea78-f323-4e2a-934e-692e1313985d",
   "metadata": {},
   "source": [
    "Program to check gretest number among three\n"
   ]
  },
  {
   "cell_type": "code",
   "execution_count": 45,
   "id": "ae43e836-8f4e-4b84-9289-5faa92ad5f54",
   "metadata": {},
   "outputs": [
    {
     "name": "stdin",
     "output_type": "stream",
     "text": [
      "Enter the number 1 10\n",
      "Enter the number 2 20\n",
      "Enter the number 3 30\n"
     ]
    },
    {
     "name": "stdout",
     "output_type": "stream",
     "text": [
      "the number 3 is greater\n"
     ]
    }
   ],
   "source": [
    "num1=int(input(\"Enter the number 1\"))\n",
    "num2=int(input(\"Enter the number 2\"))\n",
    "num3=int(input(\"Enter the number 3\"))\n",
    "\n",
    "if num1>num2 and num1>num3:\n",
    "    print(\"the number 1 is greater\")\n",
    "elif num1<num2 and num2>num3:\n",
    "        print(\"the nuber 2 is greater\")\n",
    "else:\n",
    "    print(\"the number 3 is greater\")"
   ]
  },
  {
   "cell_type": "code",
   "execution_count": null,
   "id": "60dfa71d-4413-4eb1-8ee6-9d52215480e3",
   "metadata": {},
   "outputs": [],
   "source": []
  }
 ],
 "metadata": {
  "kernelspec": {
   "display_name": "Python 3 (ipykernel)",
   "language": "python",
   "name": "python3"
  },
  "language_info": {
   "codemirror_mode": {
    "name": "ipython",
    "version": 3
   },
   "file_extension": ".py",
   "mimetype": "text/x-python",
   "name": "python",
   "nbconvert_exporter": "python",
   "pygments_lexer": "ipython3",
   "version": "3.11.5"
  }
 },
 "nbformat": 4,
 "nbformat_minor": 5
}
