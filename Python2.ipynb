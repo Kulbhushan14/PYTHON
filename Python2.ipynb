{
 "cells": [
  {
   "cell_type": "markdown",
   "id": "8dbcd3f2-62b8-4834-8f5c-e59b71a9a6c0",
   "metadata": {},
   "source": [
    "## Python Control Flow"
   ]
  },
  {
   "cell_type": "markdown",
   "id": "0e5983f9-7f83-4d89-84b8-0304e66e817e",
   "metadata": {},
   "source": [
    "## Control flow statement:\n",
    "         constructs that control the order in which instructions are executed within a program. \n",
    "         They determine the flow of control based on certain conditions or loops\n",
    "    THEY ARE THREE TYPES:\n",
    "            1.Conditional statements:\n",
    "                    a.if statement \n",
    "                    b.if else statement\n",
    "                    c.if else if statement (ladder)(nested if)\n",
    "            2.Loop statements:\n",
    "                    a.for loop\n",
    "                    b.while loop\n",
    "                    c Break and continue\n",
    "            3.Switch statements "
   ]
  },
  {
   "cell_type": "markdown",
   "id": "19826537-9b6f-4c37-8ee7-4e4a201e55c0",
   "metadata": {},
   "source": [
    "## 1.Conditional statements:\n",
    "                    "
   ]
  },
  {
   "cell_type": "markdown",
   "id": "26827d97-487c-49dd-9b27-189045cf840d",
   "metadata": {},
   "source": [
    "## a.if statement \n",
    "        syntax:\n",
    "                if(condition):\n",
    "                    print statements\n"
   ]
  },
  {
   "cell_type": "code",
   "execution_count": 21,
   "id": "ab40ce26-a0f1-4971-95e3-df3c43d17b43",
   "metadata": {},
   "outputs": [
    {
     "name": "stdin",
     "output_type": "stream",
     "text": [
      "Enter the number 102\n"
     ]
    },
    {
     "name": "stdout",
     "output_type": "stream",
     "text": [
      "the number is greater than 100\n"
     ]
    }
   ],
   "source": [
    "val=input(\"Enter the number\") #taking input from user\n",
    "val_float=float(val) #type casting\n",
    "if(val_float>100):\n",
    "    print(\"the number is greater than 100\")\n",
    "\n"
   ]
  },
  {
   "cell_type": "code",
   "execution_count": 4,
   "id": "c5564557-65bc-42ad-a8c7-abad7d1139b9",
   "metadata": {},
   "outputs": [
    {
     "name": "stdin",
     "output_type": "stream",
     "text": [
      "enter the number 25\n"
     ]
    }
   ],
   "source": [
    "# check the number is even or odd\n",
    "num=input(\"enter the number\")\n",
    "num_int=int(num)\n",
    "if(num_int%2==0):\n",
    "    print(\"the number is even\")"
   ]
  },
  {
   "cell_type": "markdown",
   "id": "08f260b2-0a9c-4e81-b27f-f7dbeb363aa8",
   "metadata": {},
   "source": [
    "## b.if else statement:\n",
    "            sytax:\n",
    "                if(condition):\n",
    "                        print(statement)\n",
    "                else:\n",
    "                    print(statement)"
   ]
  },
  {
   "cell_type": "code",
   "execution_count": 6,
   "id": "87501d08-a67d-407d-8fce-6ae35e46ac8b",
   "metadata": {},
   "outputs": [
    {
     "name": "stdin",
     "output_type": "stream",
     "text": [
      "Enter the age 12\n"
     ]
    },
    {
     "name": "stdout",
     "output_type": "stream",
     "text": [
      "minor age\n"
     ]
    }
   ],
   "source": [
    "# check the age ability\n",
    "age=int(input(\"Enter the age\")\n",
    "\n",
    "if(age<18):\n",
    "        print(\"minor age\")\n",
    "else:\n",
    "        print(\"adult age\")\n"
   ]
  },
  {
   "cell_type": "markdown",
   "id": "923cea45-423f-420f-8740-540c8c8204c5",
   "metadata": {},
   "source": [
    "## c.Nested if else condition:\n",
    "            if(conditional):\n",
    "                print(statement)\n",
    "            elif(conditional):\n",
    "                print(statement)\n",
    "            elif(conditional):\n",
    "                print(statement)"
   ]
  },
  {
   "cell_type": "code",
   "execution_count": 9,
   "id": "aae7e4cb-8da6-47a5-8268-53c5546ea453",
   "metadata": {},
   "outputs": [
    {
     "name": "stdin",
     "output_type": "stream",
     "text": [
      "Enter the age 25\n"
     ]
    },
    {
     "name": "stdout",
     "output_type": "stream",
     "text": [
      "mid age\n"
     ]
    }
   ],
   "source": [
    "age=int(input(\"Enter the age\"))\n",
    "\n",
    "if(age<18):\n",
    "        print(\"minor age\")\n",
    "elif(age>=18 and age<35):\n",
    "        print(\"mid age\")"
   ]
  },
  {
   "cell_type": "markdown",
   "id": "81d8f1bc-be67-491e-99c4-669c34d43c0e",
   "metadata": {},
   "source": [
    "## 2.Loop statements:\n",
    "               "
   ]
  },
  {
   "cell_type": "markdown",
   "id": "4de57270-b950-4a27-8f9a-cd2c63ddf073",
   "metadata": {},
   "source": [
    " ### a.for loop\n",
    "            Syntax:\n",
    "                    for (variable_name) in (list_name,tuple,etc):\n",
    "                                print(statement)"
   ]
  },
  {
   "cell_type": "code",
   "execution_count": 13,
   "id": "c48261d7-2709-4e8b-8f62-ba262916ffc5",
   "metadata": {},
   "outputs": [
    {
     "name": "stdout",
     "output_type": "stream",
     "text": [
      "1\n",
      "2\n",
      "3\n",
      "4\n",
      "5\n",
      "6\n",
      "7\n",
      "8\n"
     ]
    }
   ],
   "source": [
    "## print the ele line by line\n",
    "list=[1,2,3,4,5,6,7,8]\n",
    "for i in list:\n",
    "    print(i)"
   ]
  },
  {
   "cell_type": "code",
   "execution_count": 14,
   "id": "e17236ba-4537-432c-99b2-8f788c0fb41e",
   "metadata": {},
   "outputs": [
    {
     "name": "stdout",
     "output_type": "stream",
     "text": [
      "28\n"
     ]
    }
   ],
   "source": [
    "# sum of elements in the list\n",
    "list=[1,2,3,4,5,6,7] #declare the list \n",
    "sum=0 # declar the sum as 0\n",
    "for i in list: #for loop\n",
    "    sum=sum+i  #getting the sum \n",
    "print(sum)"
   ]
  },
  {
   "cell_type": "code",
   "execution_count": 15,
   "id": "72fbe0a4-9016-49b7-a1b5-7a06271dce19",
   "metadata": {},
   "outputs": [
    {
     "name": "stdout",
     "output_type": "stream",
     "text": [
      "The sum of even is 12\n",
      "The sum of odd is 16\n"
     ]
    }
   ],
   "source": [
    "## sum of even or odd nuber in list\n",
    "list=[1,2,3,4,5,6,7]\n",
    "even_sum=0 #declare the even sum is 0\n",
    "odd_sum=0 #declar the odd sum is 0 \n",
    "\n",
    "for i in list:\n",
    "    if(i%2==0): #using the if statment \n",
    "        even_sum+=i\n",
    "    else:\n",
    "        odd_sum+=i\n",
    "print(\"The sum of even is {}\".format(even_sum))\n",
    "print(\"The sum of odd is {}\".format(odd_sum))"
   ]
  },
  {
   "cell_type": "markdown",
   "id": "11c5f741-ec1b-4de3-951e-579df77cf8b6",
   "metadata": {},
   "source": [
    "### b.While loop\n",
    "            while(condition):\n",
    "                    print(statement)\n",
    "                    increment operator"
   ]
  },
  {
   "cell_type": "code",
   "execution_count": 18,
   "id": "69918cad-17a7-44c5-bd93-86b88259eeab",
   "metadata": {},
   "outputs": [
    {
     "name": "stdout",
     "output_type": "stream",
     "text": [
      "0\n",
      "1\n",
      "2\n",
      "3\n",
      "4\n",
      "5\n",
      "6\n",
      "7\n",
      "8\n",
      "9\n",
      "10\n"
     ]
    }
   ],
   "source": [
    "# printing the number \n",
    "\n",
    "i=0\n",
    "while(i<=10):\n",
    "    print(i)\n",
    "    i+=1"
   ]
  },
  {
   "cell_type": "code",
   "execution_count": 20,
   "id": "549a60f6-ed7e-49f7-808d-fd0c4b9e1ddb",
   "metadata": {},
   "outputs": [
    {
     "name": "stdout",
     "output_type": "stream",
     "text": [
      "30 25\n"
     ]
    }
   ],
   "source": [
    "# checking the odd or even number and sum of it\n",
    "\n",
    "i=0\n",
    "even_sum=0\n",
    "odd_sum=0\n",
    "\n",
    "while(i<=10):\n",
    "    if(i%2==0):\n",
    "        even_sum+=i\n",
    "    else:\n",
    "        odd_sum+=i\n",
    "    i+=1\n",
    "print(even_sum,odd_sum)"
   ]
  },
  {
   "cell_type": "markdown",
   "id": "33a3055f-49f3-4c2c-b16c-16eea5cb855b",
   "metadata": {},
   "source": [
    "### C.Break and Continue \n",
    "            while(or any control flow statement) (condition):\n",
    "                control flow or condition:\n",
    "                        print(statement)\n",
    "                            break or continue\n",
    "                            "
   ]
  },
  {
   "cell_type": "code",
   "execution_count": 23,
   "id": "28499972-2a0e-4066-a828-139605e6ba3f",
   "metadata": {},
   "outputs": [
    {
     "name": "stdout",
     "output_type": "stream",
     "text": [
      "0\n",
      "1\n",
      "2\n",
      "3\n"
     ]
    }
   ],
   "source": [
    "x=0\n",
    "while(x<7):\n",
    "    if x==4:\n",
    "        break\n",
    "    print(x)\n",
    "    x+=1"
   ]
  },
  {
   "cell_type": "code",
   "execution_count": 25,
   "id": "25317b8c-e072-4213-864c-95d4925b1bc2",
   "metadata": {},
   "outputs": [
    {
     "name": "stdout",
     "output_type": "stream",
     "text": [
      "1\n",
      "2\n",
      "3\n",
      "5\n",
      "6\n",
      "7\n"
     ]
    }
   ],
   "source": [
    "#continue -- to skip that num or pisition and continue the flow \n",
    "            \n",
    "x=0\n",
    "while x<7:\n",
    "    x+=1\n",
    "    if x==4:\n",
    "        continue \n",
    "    print(x)"
   ]
  },
  {
   "cell_type": "code",
   "execution_count": null,
   "id": "218dc21d-8e1d-416d-bac9-ab8ab3ec856a",
   "metadata": {},
   "outputs": [],
   "source": []
  }
 ],
 "metadata": {
  "kernelspec": {
   "display_name": "Python 3 (ipykernel)",
   "language": "python",
   "name": "python3"
  },
  "language_info": {
   "codemirror_mode": {
    "name": "ipython",
    "version": 3
   },
   "file_extension": ".py",
   "mimetype": "text/x-python",
   "name": "python",
   "nbconvert_exporter": "python",
   "pygments_lexer": "ipython3",
   "version": "3.11.5"
  }
 },
 "nbformat": 4,
 "nbformat_minor": 5
}
