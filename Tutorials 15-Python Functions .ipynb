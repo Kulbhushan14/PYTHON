{
 "cells": [
  {
   "cell_type": "markdown",
   "id": "0d35462c-e240-4052-9019-b6f7f9d94153",
   "metadata": {},
   "source": [
    "### why functions?(Interview Question)\n",
    "1. to make code more readable\n",
    "2. to make code more efficient\n",
    "3. to make code more maintainable\n",
    "4. to make code more reusable\n",
    "5. to make code more extensible"
   ]
  },
  {
   "cell_type": "markdown",
   "id": "43ce9adb-7921-465b-b4cc-c7d66ef04d5a",
   "metadata": {},
   "source": [
    "# Functions Syntax:\n",
    "\n",
    "# def (Functions name ()):\n",
    "  #  print() / return "
   ]
  },
  {
   "cell_type": "code",
   "execution_count": 24,
   "id": "5061eec9-2652-4aa4-be1c-a5a7ed989aaf",
   "metadata": {},
   "outputs": [],
   "source": [
    "def Welcome():\n",
    "    print(\"Welcome to my World\")"
   ]
  },
  {
   "cell_type": "code",
   "execution_count": 25,
   "id": "2a1f3148-65c6-400e-a867-ca037ebda9c8",
   "metadata": {},
   "outputs": [
    {
     "name": "stdout",
     "output_type": "stream",
     "text": [
      "Welcome to my World\n"
     ]
    },
    {
     "data": {
      "text/plain": [
       "NoneType"
      ]
     },
     "execution_count": 25,
     "metadata": {},
     "output_type": "execute_result"
    }
   ],
   "source": [
    "type(Welcome())"
   ]
  },
  {
   "cell_type": "code",
   "execution_count": 26,
   "id": "5e280d19-6b30-4d76-befb-9b10def71413",
   "metadata": {},
   "outputs": [],
   "source": [
    "def Welcome():\n",
    "    return \"Welcome to my World\""
   ]
  },
  {
   "cell_type": "code",
   "execution_count": 27,
   "id": "7c695f2c-9ccc-421d-b626-c53867bd916c",
   "metadata": {},
   "outputs": [
    {
     "data": {
      "text/plain": [
       "str"
      ]
     },
     "execution_count": 27,
     "metadata": {},
     "output_type": "execute_result"
    }
   ],
   "source": [
    "type(Welcome())"
   ]
  },
  {
   "cell_type": "code",
   "execution_count": 10,
   "id": "4e61823e-b460-4c78-b6ee-d4f780ddb893",
   "metadata": {},
   "outputs": [
    {
     "name": "stdout",
     "output_type": "stream",
     "text": [
      "Welcome to my World\n"
     ]
    }
   ],
   "source": [
    "print(Welcome())"
   ]
  },
  {
   "cell_type": "code",
   "execution_count": 11,
   "id": "a3689bfe-4d52-475b-99f7-850bc6f53488",
   "metadata": {},
   "outputs": [],
   "source": [
    "msg=Welcome()"
   ]
  },
  {
   "cell_type": "code",
   "execution_count": 13,
   "id": "a20fd352-1581-4c1d-b360-7e8b55d78e5a",
   "metadata": {},
   "outputs": [
    {
     "name": "stdout",
     "output_type": "stream",
     "text": [
      "Welcome to my World and life\n"
     ]
    }
   ],
   "source": [
    "print(msg + ' and life')"
   ]
  },
  {
   "cell_type": "markdown",
   "id": "f1ab5ed4-f5fe-4bef-b681-d5f29cc16cdc",
   "metadata": {},
   "source": [
    "# Function Parameterised "
   ]
  },
  {
   "cell_type": "code",
   "execution_count": 14,
   "id": "96c8a444-75a0-4186-b3b7-5f32c7bd948e",
   "metadata": {},
   "outputs": [],
   "source": [
    "def Welcome(msg):\n",
    "    print(msg)"
   ]
  },
  {
   "cell_type": "code",
   "execution_count": 15,
   "id": "2be3a81f-55a3-4b79-94c7-a2ef43ba27a1",
   "metadata": {},
   "outputs": [
    {
     "name": "stdout",
     "output_type": "stream",
     "text": [
      "Welcome All \n"
     ]
    }
   ],
   "source": [
    "Welcome(\"Welcome All \")"
   ]
  },
  {
   "cell_type": "markdown",
   "id": "c4f767e1-f9b2-4743-a5d7-7ec5a81bd841",
   "metadata": {},
   "source": [
    "# Function to add even and odd number "
   ]
  },
  {
   "cell_type": "code",
   "execution_count": 20,
   "id": "1546f72b-be28-4224-aa74-999da44d510b",
   "metadata": {},
   "outputs": [],
   "source": [
    "def evenodd(list):\n",
    "    even_sum=0\n",
    "    odd_sum=0\n",
    "    for i in list:\n",
    "        if i%2==0:\n",
    "            even_sum+=i\n",
    "        else:\n",
    "            odd_sum+=i\n",
    "    return even_sum,odd_sum"
   ]
  },
  {
   "cell_type": "code",
   "execution_count": 23,
   "id": "89711235-914a-4a55-a9da-ca8230be4c06",
   "metadata": {},
   "outputs": [
    {
     "data": {
      "text/plain": [
       "(20, 25)"
      ]
     },
     "execution_count": 23,
     "metadata": {},
     "output_type": "execute_result"
    }
   ],
   "source": [
    "evenodd([1,2,3,4,5,6,7,8,9])"
   ]
  },
  {
   "cell_type": "code",
   "execution_count": null,
   "id": "c7727c53-245b-4f74-aebe-6c25227e7a7c",
   "metadata": {},
   "outputs": [],
   "source": []
  }
 ],
 "metadata": {
  "kernelspec": {
   "display_name": "Python 3 (ipykernel)",
   "language": "python",
   "name": "python3"
  },
  "language_info": {
   "codemirror_mode": {
    "name": "ipython",
    "version": 3
   },
   "file_extension": ".py",
   "mimetype": "text/x-python",
   "name": "python",
   "nbconvert_exporter": "python",
   "pygments_lexer": "ipython3",
   "version": "3.11.7"
  },
  "widgets": {
   "application/vnd.jupyter.widget-state+json": {
    "state": {},
    "version_major": 2,
    "version_minor": 0
   }
  }
 },
 "nbformat": 4,
 "nbformat_minor": 5
}
