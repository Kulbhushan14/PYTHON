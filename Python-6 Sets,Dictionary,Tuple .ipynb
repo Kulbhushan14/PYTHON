{
 "cells": [
  {
   "cell_type": "markdown",
   "id": "254daddd-e3a3-430e-8bca-f2d36380ef1d",
   "metadata": {},
   "source": [
    "# Sets\n",
    "\n",
    "A set is an unordered collecction data type that is iterable, mutable and also **no duplicate** elements. \n",
    "Python set class represnet the mathematical notion of a set. This is based on a data structure known as a has table. "
   ]
  },
  {
   "cell_type": "code",
   "execution_count": 2,
   "id": "81be4d86-5146-4064-8594-c09d7dbb9248",
   "metadata": {},
   "outputs": [
    {
     "name": "stdout",
     "output_type": "stream",
     "text": [
      "<class 'set'>\n"
     ]
    }
   ],
   "source": [
    "print(type({1,2,3,4,5}))"
   ]
  },
  {
   "cell_type": "code",
   "execution_count": 3,
   "id": "6c80f391-1ce3-4afb-a966-a6dd57997c1c",
   "metadata": {},
   "outputs": [
    {
     "name": "stdout",
     "output_type": "stream",
     "text": [
      "set()\n"
     ]
    }
   ],
   "source": [
    "# define a empty set\n",
    "\n",
    "set_var=set()\n",
    "print(set_var)\n"
   ]
  },
  {
   "cell_type": "code",
   "execution_count": 5,
   "id": "4e40a374-6a66-42f7-a889-01273bcf13b8",
   "metadata": {},
   "outputs": [
    {
     "name": "stdout",
     "output_type": "stream",
     "text": [
      "{1, 2, 3, 4, 5}\n"
     ]
    }
   ],
   "source": [
    "set_var={1,2,3,4,5,2}\n",
    "print(set_var)"
   ]
  },
  {
   "cell_type": "code",
   "execution_count": 10,
   "id": "5f2db44b-89d4-49e2-920e-318c306d7aff",
   "metadata": {},
   "outputs": [
    {
     "name": "stdout",
     "output_type": "stream",
     "text": [
      "{'ak', 'vk', 'mk'}\n"
     ]
    }
   ],
   "source": [
    "set_var={'mk','vk','ak'}\n",
    "print(set_var)\n"
   ]
  },
  {
   "cell_type": "code",
   "execution_count": 12,
   "id": "ba11fce0-a4c2-4e18-9e72-631e724f7537",
   "metadata": {},
   "outputs": [
    {
     "name": "stdout",
     "output_type": "stream",
     "text": [
      "ak\n",
      "vk\n",
      "mk\n"
     ]
    }
   ],
   "source": [
    "for i in set_var:\n",
    "    print(i)"
   ]
  },
  {
   "cell_type": "markdown",
   "id": "8aa4e422-f129-4f3b-ba6a-2e1069d15835",
   "metadata": {},
   "source": [
    "## Set.add()\n",
    "add element at last of the set"
   ]
  },
  {
   "cell_type": "code",
   "execution_count": 13,
   "id": "a890d84b-190d-438e-8d2d-9a3c4331895b",
   "metadata": {},
   "outputs": [],
   "source": [
    "set_var.add('sk')"
   ]
  },
  {
   "cell_type": "code",
   "execution_count": 14,
   "id": "527fa3cf-7aa6-41fe-b6a7-abbff8fb5639",
   "metadata": {},
   "outputs": [
    {
     "data": {
      "text/plain": [
       "{'ak', 'mk', 'sk', 'vk'}"
      ]
     },
     "execution_count": 14,
     "metadata": {},
     "output_type": "execute_result"
    }
   ],
   "source": [
    "set_var"
   ]
  },
  {
   "cell_type": "markdown",
   "id": "45bff315-0070-4ea9-9db3-95b965d81209",
   "metadata": {},
   "source": [
    "## Set.intersection and set.intersection_update"
   ]
  },
  {
   "cell_type": "code",
   "execution_count": 22,
   "id": "4c145bdc-dc61-4c80-a978-71e28a7b0104",
   "metadata": {},
   "outputs": [],
   "source": [
    "set1={\"bhushan\",\"darshan\",\"nilesh\"}\n",
    "set2={\"bhushan\",\"darshan\",\"nilesh\",\"as\"}"
   ]
  },
  {
   "cell_type": "code",
   "execution_count": 17,
   "id": "6b4aff50-c485-4842-9298-30f9752c840b",
   "metadata": {},
   "outputs": [
    {
     "data": {
      "text/plain": [
       "{'bhushan', 'darshan', 'nilesh'}"
      ]
     },
     "execution_count": 17,
     "metadata": {},
     "output_type": "execute_result"
    }
   ],
   "source": [
    "set2.intersection(set1)"
   ]
  },
  {
   "cell_type": "code",
   "execution_count": 20,
   "id": "4d643898-f347-4f0d-a0b4-21baa613655d",
   "metadata": {},
   "outputs": [],
   "source": [
    "set2.intersection_update(set1)"
   ]
  },
  {
   "cell_type": "code",
   "execution_count": 21,
   "id": "8057b402-060f-424c-bc44-92d2f391bcf8",
   "metadata": {},
   "outputs": [
    {
     "data": {
      "text/plain": [
       "{'bhushan', 'darshan', 'nilesh'}"
      ]
     },
     "execution_count": 21,
     "metadata": {},
     "output_type": "execute_result"
    }
   ],
   "source": [
    "set2"
   ]
  },
  {
   "cell_type": "markdown",
   "id": "51f8e2c5-6a1e-4f64-bc49-0476dbc070be",
   "metadata": {},
   "source": [
    "## Set.difference()"
   ]
  },
  {
   "cell_type": "code",
   "execution_count": 24,
   "id": "77ee93b7-4405-4284-99c4-a1b25b1c53d0",
   "metadata": {},
   "outputs": [
    {
     "data": {
      "text/plain": [
       "{'as'}"
      ]
     },
     "execution_count": 24,
     "metadata": {},
     "output_type": "execute_result"
    }
   ],
   "source": [
    "set2.difference(set1)"
   ]
  },
  {
   "cell_type": "markdown",
   "id": "d1d864ac-95fd-4482-87aa-a0947ae794fb",
   "metadata": {},
   "source": [
    "# Dictionary\n",
    "a dictionary is a collection which is unordered, changeable and indexed. In python dictionary are written with curly brackets, and they have keys and values. "
   ]
  },
  {
   "cell_type": "code",
   "execution_count": 25,
   "id": "abda660c-8bd4-4d2f-b1f2-5716d5650457",
   "metadata": {},
   "outputs": [],
   "source": [
    "dic={}"
   ]
  },
  {
   "cell_type": "code",
   "execution_count": 26,
   "id": "8747e038-4d3d-4441-a665-c11c01f06848",
   "metadata": {},
   "outputs": [
    {
     "data": {
      "text/plain": [
       "dict"
      ]
     },
     "execution_count": 26,
     "metadata": {},
     "output_type": "execute_result"
    }
   ],
   "source": [
    "type(dic)"
   ]
  },
  {
   "cell_type": "code",
   "execution_count": 28,
   "id": "2d2e9ef0-0ada-4e6e-b41a-d5abc3f0340b",
   "metadata": {},
   "outputs": [],
   "source": [
    "# key and value pair\n",
    "dic={1:\"krish\"}"
   ]
  },
  {
   "cell_type": "code",
   "execution_count": 32,
   "id": "ccee263e-5ef6-4768-8afb-54b2f8dc75aa",
   "metadata": {},
   "outputs": [
    {
     "data": {
      "text/plain": [
       "{'name': 'bhushan', 'age': 18}"
      ]
     },
     "execution_count": 32,
     "metadata": {},
     "output_type": "execute_result"
    }
   ],
   "source": [
    "dict(name=\"bhushan\",age=18)"
   ]
  },
  {
   "cell_type": "code",
   "execution_count": 34,
   "id": "642fbc7d-8049-4373-8a47-1f9914332cf8",
   "metadata": {},
   "outputs": [],
   "source": [
    "# creating a dict\n",
    "my_dic={\"car1\":\"audi\",\"car2\":\"bmw\",\"car3\":\"mercidies benz\"}"
   ]
  },
  {
   "cell_type": "code",
   "execution_count": 36,
   "id": "51794df3-a4d2-4fa3-be25-09d6886f56cc",
   "metadata": {},
   "outputs": [
    {
     "data": {
      "text/plain": [
       "'audi'"
      ]
     },
     "execution_count": 36,
     "metadata": {},
     "output_type": "execute_result"
    }
   ],
   "source": [
    "# access the item value based on key \n",
    "my_dic['car1']"
   ]
  },
  {
   "cell_type": "markdown",
   "id": "bbcf2460-2fe6-4861-be35-48e9370ce08e",
   "metadata": {},
   "source": [
    "## items()"
   ]
  },
  {
   "cell_type": "code",
   "execution_count": 37,
   "id": "61ffd234-6783-4267-8c6a-20fde09a952b",
   "metadata": {},
   "outputs": [
    {
     "data": {
      "text/plain": [
       "dict_items([('car1', 'audi'), ('car2', 'bmw'), ('car3', 'mercidies benz')])"
      ]
     },
     "execution_count": 37,
     "metadata": {},
     "output_type": "execute_result"
    }
   ],
   "source": [
    "my_dic.items()"
   ]
  },
  {
   "cell_type": "markdown",
   "id": "b990d979-690f-472c-a4f5-6369d4697081",
   "metadata": {},
   "source": [
    "## keys()"
   ]
  },
  {
   "cell_type": "code",
   "execution_count": 38,
   "id": "09bbd801-e366-4003-b713-2ae2b507c173",
   "metadata": {},
   "outputs": [
    {
     "data": {
      "text/plain": [
       "dict_keys(['car1', 'car2', 'car3'])"
      ]
     },
     "execution_count": 38,
     "metadata": {},
     "output_type": "execute_result"
    }
   ],
   "source": [
    "my_dic.keys()"
   ]
  },
  {
   "cell_type": "markdown",
   "id": "bbf62728-3328-482d-ae9d-f23c96430e2f",
   "metadata": {},
   "source": [
    "## values()"
   ]
  },
  {
   "cell_type": "code",
   "execution_count": 39,
   "id": "462d8e7e-f31d-4bbf-bb25-9643f6a8c6b7",
   "metadata": {},
   "outputs": [
    {
     "data": {
      "text/plain": [
       "dict_values(['audi', 'bmw', 'mercidies benz'])"
      ]
     },
     "execution_count": 39,
     "metadata": {},
     "output_type": "execute_result"
    }
   ],
   "source": [
    "my_dic.values()"
   ]
  },
  {
   "cell_type": "code",
   "execution_count": 41,
   "id": "12ccae3a-165c-4997-9ea8-aec2a4a24400",
   "metadata": {},
   "outputs": [
    {
     "name": "stdout",
     "output_type": "stream",
     "text": [
      "car1\n",
      "car2\n",
      "car3\n"
     ]
    }
   ],
   "source": [
    "# we can use loop in dictionary \n",
    "# for keys\n",
    "for i in my_dic:\n",
    "    print(i)"
   ]
  },
  {
   "cell_type": "code",
   "execution_count": 45,
   "id": "7db19f67-70d4-4d1d-bb64-59bad6b929bc",
   "metadata": {},
   "outputs": [
    {
     "name": "stdout",
     "output_type": "stream",
     "text": [
      "audi\n",
      "bmw\n",
      "mercidies benz\n"
     ]
    }
   ],
   "source": [
    "# for vlaues\n",
    "\n",
    "for x in my_dic.values():\n",
    "    print(x)"
   ]
  },
  {
   "cell_type": "code",
   "execution_count": 46,
   "id": "211679ff-6906-470b-9358-8114fc67f16d",
   "metadata": {},
   "outputs": [],
   "source": [
    "# adding an element in dic\n",
    "\n",
    "my_dic[\"car4\"]=\"ambassador\""
   ]
  },
  {
   "cell_type": "code",
   "execution_count": 47,
   "id": "467c1769-dba2-4a5e-a3e7-4fddfe01cffd",
   "metadata": {},
   "outputs": [
    {
     "data": {
      "text/plain": [
       "{'car1': 'audi', 'car2': 'bmw', 'car3': 'mercidies benz', 'car4': 'ambassador'}"
      ]
     },
     "execution_count": 47,
     "metadata": {},
     "output_type": "execute_result"
    }
   ],
   "source": [
    "my_dic"
   ]
  },
  {
   "cell_type": "markdown",
   "id": "0c9fcfad-0a83-4fa9-9a1f-7a1b383938c6",
   "metadata": {},
   "source": [
    "# Nested dictionary"
   ]
  },
  {
   "cell_type": "code",
   "execution_count": 48,
   "id": "9f8c0fe7-7a87-47d0-bc7d-1b2aef57800d",
   "metadata": {},
   "outputs": [],
   "source": [
    "car1={\"ambassador\":1960}\n",
    "car2={\"audi\":1970}\n",
    "car3={\"mercedes\":2000}\n",
    "\n",
    "car_type={\"c1\":car1,\"c2\":car2,\"c3\":car3}"
   ]
  },
  {
   "cell_type": "code",
   "execution_count": 49,
   "id": "5c9cf38d-9301-49e3-9d27-55cd02edff90",
   "metadata": {},
   "outputs": [
    {
     "data": {
      "text/plain": [
       "{'c1': {'ambassador': 1960}, 'c2': {'audi': 1970}, 'c3': {'mercedes': 2000}}"
      ]
     },
     "execution_count": 49,
     "metadata": {},
     "output_type": "execute_result"
    }
   ],
   "source": [
    "car_type"
   ]
  },
  {
   "cell_type": "code",
   "execution_count": 51,
   "id": "0b05913b-2938-4d5d-9de4-f6247fb9d56b",
   "metadata": {},
   "outputs": [
    {
     "data": {
      "text/plain": [
       "1960"
      ]
     },
     "execution_count": 51,
     "metadata": {},
     "output_type": "execute_result"
    }
   ],
   "source": [
    "# for accessing a key\n",
    "\n",
    "car_type['c1']['ambassador']"
   ]
  },
  {
   "cell_type": "markdown",
   "id": "9ea788be-b0a4-48a2-8355-6da42ec49aad",
   "metadata": {},
   "source": [
    "# Tuple"
   ]
  },
  {
   "cell_type": "code",
   "execution_count": 53,
   "id": "8164ea7d-da6d-4306-99cb-5f0b8a8bd90f",
   "metadata": {},
   "outputs": [],
   "source": [
    "my_tuple=tuple()"
   ]
  },
  {
   "cell_type": "code",
   "execution_count": 54,
   "id": "a0a6b907-8bee-4ec4-aa9c-01223b0e9413",
   "metadata": {},
   "outputs": [
    {
     "data": {
      "text/plain": [
       "tuple"
      ]
     },
     "execution_count": 54,
     "metadata": {},
     "output_type": "execute_result"
    }
   ],
   "source": [
    "type(my_tuple)"
   ]
  },
  {
   "cell_type": "code",
   "execution_count": 55,
   "id": "8aa7507d-c88f-49b1-b881-e304d5ec9d1a",
   "metadata": {},
   "outputs": [],
   "source": [
    "my_tuple=(1,2,3,4,5,6)"
   ]
  },
  {
   "cell_type": "code",
   "execution_count": 56,
   "id": "96decb21-de7d-4cb0-9e65-9951e19e3de1",
   "metadata": {},
   "outputs": [
    {
     "name": "stdout",
     "output_type": "stream",
     "text": [
      "(1, 2, 3, 4, 5, 6)\n"
     ]
    }
   ],
   "source": [
    "print(my_tuple)"
   ]
  },
  {
   "cell_type": "markdown",
   "id": "543594cc-51cb-4e9a-83b1-60542dc8f663",
   "metadata": {},
   "source": [
    "## tuple.count()"
   ]
  },
  {
   "cell_type": "code",
   "execution_count": 57,
   "id": "8be01f8d-c9d8-4a03-9af8-343eece124d8",
   "metadata": {},
   "outputs": [
    {
     "ename": "TypeError",
     "evalue": "tuple.count() takes exactly one argument (0 given)",
     "output_type": "error",
     "traceback": [
      "\u001b[1;31m---------------------------------------------------------------------------\u001b[0m",
      "\u001b[1;31mTypeError\u001b[0m                                 Traceback (most recent call last)",
      "Cell \u001b[1;32mIn[57], line 1\u001b[0m\n\u001b[1;32m----> 1\u001b[0m my_tuple\u001b[38;5;241m.\u001b[39mcount()\n",
      "\u001b[1;31mTypeError\u001b[0m: tuple.count() takes exactly one argument (0 given)"
     ]
    }
   ],
   "source": [
    "my_tuple.count()"
   ]
  },
  {
   "cell_type": "code",
   "execution_count": null,
   "id": "459e19d2-eeae-49d5-93bc-a6819fa14e76",
   "metadata": {},
   "outputs": [],
   "source": []
  }
 ],
 "metadata": {
  "kernelspec": {
   "display_name": "Python 3 (ipykernel)",
   "language": "python",
   "name": "python3"
  },
  "language_info": {
   "codemirror_mode": {
    "name": "ipython",
    "version": 3
   },
   "file_extension": ".py",
   "mimetype": "text/x-python",
   "name": "python",
   "nbconvert_exporter": "python",
   "pygments_lexer": "ipython3",
   "version": "3.11.5"
  }
 },
 "nbformat": 4,
 "nbformat_minor": 5
}
